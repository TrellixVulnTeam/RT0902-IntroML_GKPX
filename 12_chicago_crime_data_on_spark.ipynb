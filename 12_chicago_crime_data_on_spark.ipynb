{
  "cells": [
    {
      "cell_type": "markdown",
      "metadata": {
        "id": "l5NGFmN8B11c"
      },
      "source": [
        "# Chicago crime dataset analysis\n",
        "---\n",
        "\n",
        "This notebook is a Spark and Python learner's to perform data analysis on some real-world data set.\n",
        "\n",
        "In this notebook, I am capriciously using Spark, Pandas, Matplotlib, Seaborn without any meaningful distinction of purpose. The point is:\n",
        "\n",
        " * Perform data reading, transforming, and querying using Apache Spark\n",
        " * Visualize using existing Python libraries. Matplotlib will remain when I know to do with it all that I'm currenly using Seaborn for.\n",
        " * Where interoperation between Spark and Matplotlib is a hindrance, I use Pandas and Numpy.\n",
        " \n",
        "This will be evolutionary and I hope that a few weeks from now, it will look much better."
      ]
    },
    {
      "cell_type": "code",
      "source": [
        "import os\n",
        "memory = '8g'\n",
        "pyspark_submit_args = ' --driver-memory ' + memory + ' pyspark-shell'\n",
        "os.environ[\"PYSPARK_SUBMIT_ARGS\"] = pyspark_submit_args"
      ],
      "metadata": {
        "id": "pG1K0VaslXFL"
      },
      "execution_count": 1,
      "outputs": []
    },
    {
      "cell_type": "code",
      "source": [
        "!apt-get install openjdk-11-jdk-headless"
      ],
      "metadata": {
        "colab": {
          "base_uri": "https://localhost:8080/"
        },
        "id": "G3VtnxPqB73r",
        "outputId": "12f2a8c3-b298-4ae5-9cda-a558797bd1fc"
      },
      "execution_count": 1,
      "outputs": [
        {
          "output_type": "stream",
          "name": "stdout",
          "text": [
            "Reading package lists... Done\n",
            "Building dependency tree       \n",
            "Reading state information... Done\n",
            "openjdk-11-jdk-headless is already the newest version (11.0.13+8-0ubuntu1~18.04).\n",
            "The following packages were automatically installed and are no longer required:\n",
            "  cuda-command-line-tools-10-0 cuda-command-line-tools-10-1\n",
            "  cuda-command-line-tools-11-0 cuda-compiler-10-0 cuda-compiler-10-1\n",
            "  cuda-compiler-11-0 cuda-cuobjdump-10-0 cuda-cuobjdump-10-1\n",
            "  cuda-cuobjdump-11-0 cuda-cupti-10-0 cuda-cupti-10-1 cuda-cupti-11-0\n",
            "  cuda-cupti-dev-11-0 cuda-documentation-10-0 cuda-documentation-10-1\n",
            "  cuda-documentation-11-0 cuda-documentation-11-1 cuda-gdb-10-0 cuda-gdb-10-1\n",
            "  cuda-gdb-11-0 cuda-gpu-library-advisor-10-0 cuda-gpu-library-advisor-10-1\n",
            "  cuda-libraries-10-0 cuda-libraries-10-1 cuda-libraries-11-0\n",
            "  cuda-memcheck-10-0 cuda-memcheck-10-1 cuda-memcheck-11-0 cuda-nsight-10-0\n",
            "  cuda-nsight-10-1 cuda-nsight-11-0 cuda-nsight-11-1 cuda-nsight-compute-10-0\n",
            "  cuda-nsight-compute-10-1 cuda-nsight-compute-11-0 cuda-nsight-compute-11-1\n",
            "  cuda-nsight-systems-10-1 cuda-nsight-systems-11-0 cuda-nsight-systems-11-1\n",
            "  cuda-nvcc-10-0 cuda-nvcc-10-1 cuda-nvcc-11-0 cuda-nvdisasm-10-0\n",
            "  cuda-nvdisasm-10-1 cuda-nvdisasm-11-0 cuda-nvml-dev-10-0 cuda-nvml-dev-10-1\n",
            "  cuda-nvml-dev-11-0 cuda-nvprof-10-0 cuda-nvprof-10-1 cuda-nvprof-11-0\n",
            "  cuda-nvprune-10-0 cuda-nvprune-10-1 cuda-nvprune-11-0 cuda-nvtx-10-0\n",
            "  cuda-nvtx-10-1 cuda-nvtx-11-0 cuda-nvvp-10-0 cuda-nvvp-10-1 cuda-nvvp-11-0\n",
            "  cuda-nvvp-11-1 cuda-samples-10-0 cuda-samples-10-1 cuda-samples-11-0\n",
            "  cuda-samples-11-1 cuda-sanitizer-11-0 cuda-sanitizer-api-10-1\n",
            "  cuda-toolkit-10-0 cuda-toolkit-10-1 cuda-toolkit-11-0 cuda-toolkit-11-1\n",
            "  cuda-tools-10-0 cuda-tools-10-1 cuda-tools-11-0 cuda-tools-11-1\n",
            "  cuda-visual-tools-10-0 cuda-visual-tools-10-1 cuda-visual-tools-11-0\n",
            "  cuda-visual-tools-11-1 default-jre dkms freeglut3 freeglut3-dev\n",
            "  keyboard-configuration libargon2-0 libcap2 libcryptsetup12\n",
            "  libdevmapper1.02.1 libfontenc1 libidn11 libip4tc0 libjansson4\n",
            "  libnvidia-cfg1-510 libnvidia-common-460 libnvidia-common-510\n",
            "  libnvidia-extra-510 libnvidia-fbc1-510 libnvidia-gl-510 libpam-systemd\n",
            "  libpolkit-agent-1-0 libpolkit-backend-1-0 libpolkit-gobject-1-0 libxfont2\n",
            "  libxi-dev libxkbfile1 libxmu-dev libxmu-headers libxnvctrl0 libxtst6\n",
            "  nsight-compute-2020.2.1 nsight-compute-2022.1.0 nsight-systems-2020.3.2\n",
            "  nsight-systems-2020.3.4 nsight-systems-2021.5.2 nvidia-dkms-510\n",
            "  nvidia-kernel-common-510 nvidia-kernel-source-510 nvidia-modprobe\n",
            "  nvidia-settings openjdk-11-jre policykit-1 policykit-1-gnome python3-xkit\n",
            "  screen-resolution-extra systemd systemd-sysv udev x11-xkb-utils\n",
            "  xserver-common xserver-xorg-core-hwe-18.04 xserver-xorg-video-nvidia-510\n",
            "Use 'apt autoremove' to remove them.\n",
            "0 upgraded, 0 newly installed, 0 to remove and 39 not upgraded.\n"
          ]
        }
      ]
    },
    {
      "cell_type": "code",
      "source": [
        "!gsutil -m cp -r gs://angelo_crime_data/spark-3.2.1-bin-hadoop2.7.tgz .\n",
        " "
      ],
      "metadata": {
        "colab": {
          "base_uri": "https://localhost:8080/"
        },
        "id": "XrwrhwlRCEKQ",
        "outputId": "7d166bf4-205d-45fb-c912-db79b684852f"
      },
      "execution_count": 2,
      "outputs": [
        {
          "output_type": "stream",
          "name": "stdout",
          "text": [
            "Copying gs://angelo_crime_data/spark-3.2.1-bin-hadoop2.7.tgz...\n",
            "\\ [1/1 files][260.0 MiB/260.0 MiB] 100% Done                                    \n",
            "Operation completed over 1 objects/260.0 MiB.                                    \n"
          ]
        }
      ]
    },
    {
      "cell_type": "code",
      "source": [
        "!tar xf spark-3.2.1-bin-hadoop2.7.tgz\n",
        "!rm spark-3.2.1-bin-hadoop2.7.tgz"
      ],
      "metadata": {
        "id": "EYWTQz2_CHK9"
      },
      "execution_count": 3,
      "outputs": []
    },
    {
      "cell_type": "code",
      "source": [
        "!pip install findspark pyspark"
      ],
      "metadata": {
        "colab": {
          "base_uri": "https://localhost:8080/"
        },
        "id": "RTB4dKK5CKPC",
        "outputId": "f90719d4-550a-48bf-ddee-39641f27cf2c"
      },
      "execution_count": 4,
      "outputs": [
        {
          "output_type": "stream",
          "name": "stdout",
          "text": [
            "Collecting findspark\n",
            "  Downloading findspark-2.0.0-py2.py3-none-any.whl (4.4 kB)\n",
            "Collecting pyspark\n",
            "  Downloading pyspark-3.2.1.tar.gz (281.4 MB)\n",
            "\u001b[K     |████████████████████████████████| 281.4 MB 38 kB/s \n",
            "\u001b[?25hCollecting py4j==0.10.9.3\n",
            "  Downloading py4j-0.10.9.3-py2.py3-none-any.whl (198 kB)\n",
            "\u001b[K     |████████████████████████████████| 198 kB 50.1 MB/s \n",
            "\u001b[?25hBuilding wheels for collected packages: pyspark\n",
            "  Building wheel for pyspark (setup.py) ... \u001b[?25l\u001b[?25hdone\n",
            "  Created wheel for pyspark: filename=pyspark-3.2.1-py2.py3-none-any.whl size=281853642 sha256=58812d44e3939caac1e5f32b88e677d8d7dca3a606f7cafa3950df5f44c8c09c\n",
            "  Stored in directory: /root/.cache/pip/wheels/9f/f5/07/7cd8017084dce4e93e84e92efd1e1d5334db05f2e83bcef74f\n",
            "Successfully built pyspark\n",
            "Installing collected packages: py4j, pyspark, findspark\n",
            "Successfully installed findspark-2.0.0 py4j-0.10.9.3 pyspark-3.2.1\n"
          ]
        }
      ]
    },
    {
      "cell_type": "code",
      "source": [
        "import os\n",
        "import findspark\n",
        "\n",
        "os.environ[\"JAVA_HOME\"] = \"/usr/lib/jvm/java-11-openjdk-amd64\"\n",
        "os.environ[\"SPARK_HOME\"] = \"./spark-3.2.1-bin-hadoop2.7\"\n",
        "\n",
        "\n",
        "findspark.init()"
      ],
      "metadata": {
        "id": "IcBNhHFMCNCy"
      },
      "execution_count": 5,
      "outputs": []
    },
    {
      "cell_type": "markdown",
      "metadata": {
        "id": "orsg3O-SB11e"
      },
      "source": [
        "---\n",
        "\n",
        "## Get Imports out of the way\n",
        "\n"
      ]
    },
    {
      "cell_type": "markdown",
      "metadata": {
        "id": "ZWzoN7XpB11e"
      },
      "source": [
        "Spark imports"
      ]
    },
    {
      "cell_type": "code",
      "execution_count": 6,
      "metadata": {
        "id": "ewSQBpTqB11f"
      },
      "outputs": [],
      "source": [
        "## spark imports\n",
        "from pyspark.sql import Row, SparkSession\n",
        "import pyspark.sql.functions as pyf\n",
        "\n",
        "spark = SparkSession.builder.master(\"local[1]\").appName(\"RT0902\").getOrCreate()"
      ]
    },
    {
      "cell_type": "markdown",
      "metadata": {
        "id": "1zbNyaRuB11f"
      },
      "source": [
        "Standard python data analysis imports"
      ]
    },
    {
      "cell_type": "code",
      "execution_count": 7,
      "metadata": {
        "id": "DQft1Nw1B11g"
      },
      "outputs": [],
      "source": [
        "## standard imports\n",
        "import numpy as np\n",
        "import pandas as pd\n",
        "import seaborn as sns\n",
        "import matplotlib.pyplot as plt"
      ]
    },
    {
      "cell_type": "markdown",
      "metadata": {
        "id": "IjLpUfihB11g"
      },
      "source": [
        "Jupyter visualization options"
      ]
    },
    {
      "cell_type": "code",
      "execution_count": 8,
      "metadata": {
        "id": "N19-9_ddB11g"
      },
      "outputs": [],
      "source": [
        "%matplotlib inline\n",
        "\n",
        "#Not too sure the following 2 work. This is a TODO\n",
        "sns.set_color_codes(\"pastel\")\n",
        "plt.rcParams[\"figure.figsize\"] = [20, 8]"
      ]
    },
    {
      "cell_type": "markdown",
      "metadata": {
        "id": "TkJN_E5AB11h"
      },
      "source": [
        "---\n",
        "## Dataset information\n",
        "\n",
        "First, clean the headers. This is just for nice presentation of headers. Having valid data frame field names that conform to Python identifier rules is good. I personally prefer that as it's always helpful to use the dot notation in many places.\n",
        "\n",
        "These are the column names, as pulled from the Kaggle dataset page [here](https://www.kaggle.com/djonafegnem/chicago-crime-data-analysis)"
      ]
    },
    {
      "cell_type": "code",
      "execution_count": 11,
      "metadata": {
        "id": "j2F-rS7vB11h"
      },
      "outputs": [],
      "source": [
        "content_cols = '''\n",
        "ID - Unique identifier for the record.\n",
        "Case Number - The Chicago Police Department RD Number (Records Division Number), which is unique to the incident.\n",
        "Date - Date when the incident occurred. this is sometimes a best estimate.\n",
        "Block - The partially redacted address where the incident occurred, placing it on the same block as the actual address.\n",
        "IUCR - The Illinois Unifrom Crime Reporting code. This is directly linked to the Primary Type and Description. See the list of IUCR codes at https://data.cityofchicago.org/d/c7ck-438e.\n",
        "Primary Type - The primary description of the IUCR code.\n",
        "Description - The secondary description of the IUCR code, a subcategory of the primary description.\n",
        "Location Description - Description of the location where the incident occurred.\n",
        "Arrest - Indicates whether an arrest was made.\n",
        "Domestic - Indicates whether the incident was domestic-related as defined by the Illinois Domestic Violence Act.\n",
        "Beat - Indicates the beat where the incident occurred. A beat is the smallest police geographic area – each beat has a dedicated police beat car. Three to five beats make up a police sector, and three sectors make up a police district. The Chicago Police Department has 22 police districts. See the beats at https://data.cityofchicago.org/d/aerh-rz74.\n",
        "District - Indicates the police district where the incident occurred. See the districts at https://data.cityofchicago.org/d/fthy-xz3r.\n",
        "Ward - The ward (City Council district) where the incident occurred. See the wards at https://data.cityofchicago.org/d/sp34-6z76.\n",
        "Community Area - Indicates the community area where the incident occurred. Chicago has 77 community areas. See the community areas at https://data.cityofchicago.org/d/cauq-8yn6.\n",
        "FBI Code - Indicates the crime classification as outlined in the FBI's National Incident-Based Reporting System (NIBRS). See the Chicago Police Department listing of these classifications at http://gis.chicagopolice.org/clearmap_crime_sums/crime_types.html.\n",
        "X Coordinate - The x coordinate of the location where the incident occurred in State Plane Illinois East NAD 1983 projection. This location is shifted from the actual location for partial redaction but falls on the same block.\n",
        "Y Coordinate - The y coordinate of the location where the incident occurred in State Plane Illinois East NAD 1983 projection. This location is shifted from the actual location for partial redaction but falls on the same block.\n",
        "Year - Year the incident occurred.\n",
        "Updated On - Date and time the record was last updated.\n",
        "Latitude - The latitude of the location where the incident occurred. This location is shifted from the actual location for partial redaction but falls on the same block.\n",
        "Longitude - The longitude of the location where the incident occurred. This location is shifted from the actual location for partial redaction but falls on the same block.\n",
        "Location - The location where the incident occurred in a format that allows for creation of maps and other geographic operations on this data portal. This location is shifted from the actual location for partial redaction but falls on the same block.'''"
      ]
    },
    {
      "cell_type": "code",
      "execution_count": 12,
      "metadata": {
        "id": "1g9qrmeVB11i"
      },
      "outputs": [],
      "source": [
        "def entry_dic(line):\n",
        "    \"\"\"\n",
        "    Convert a header - description line into a single dictionary that holds the original header as 'title', a corresponding field name as 'header', and a description.\n",
        "    \"\"\"\n",
        "    pair = line.split(' - ')\n",
        "    return {'title': pair[0], 'description': pair[1], 'header': pair[0].lower().replace(' ', '_')}"
      ]
    },
    {
      "cell_type": "markdown",
      "metadata": {
        "id": "5ce6HSbkB11j"
      },
      "source": [
        "Turn a list of headers to a list of dictionaries produced by the above function"
      ]
    },
    {
      "cell_type": "code",
      "execution_count": 13,
      "metadata": {
        "id": "2SFbLzd4B11j"
      },
      "outputs": [],
      "source": [
        "header_dics = list(map(entry_dic, list(filter(lambda l: l != '', content_cols.split('\\n')))))"
      ]
    },
    {
      "cell_type": "code",
      "execution_count": 14,
      "metadata": {
        "colab": {
          "base_uri": "https://localhost:8080/"
        },
        "id": "oBPjg3hvB11j",
        "outputId": "f57de5d0-7f0f-445b-b620-6d4c44730fff"
      },
      "outputs": [
        {
          "output_type": "execute_result",
          "data": {
            "text/plain": [
              "[{'description': 'Unique identifier for the record.',\n",
              "  'header': 'id',\n",
              "  'title': 'ID'},\n",
              " {'description': 'The Chicago Police Department RD Number (Records Division Number), which is unique to the incident.',\n",
              "  'header': 'case_number',\n",
              "  'title': 'Case Number'}]"
            ]
          },
          "metadata": {},
          "execution_count": 14
        }
      ],
      "source": [
        "header_dics[:2]"
      ]
    },
    {
      "cell_type": "markdown",
      "metadata": {
        "id": "PEV6TMBnB11k"
      },
      "source": [
        "### Environment\n",
        "\n",
        "The data set is expected to be located at `./data/`. The dataset downloaded from the page mentioned above comes in multiple .csv files. I extracted those files into the directory (see below `ls` output).\n",
        "\n",
        "It shouldn't matter where the data comes from or how many files it's broken up into. As long as the pattern matches, that should work."
      ]
    },
    {
      "cell_type": "code",
      "source": [
        "!mkdir data"
      ],
      "metadata": {
        "id": "9dzWdo_JWJgw"
      },
      "execution_count": 15,
      "outputs": []
    },
    {
      "cell_type": "code",
      "source": [
        "!gsutil -m cp -r gs://angelo_crime_data/*.csv ./data"
      ],
      "metadata": {
        "colab": {
          "base_uri": "https://localhost:8080/"
        },
        "id": "5q9V0tdZWvN5",
        "outputId": "99bd24f0-0e79-4ac2-9f56-03be2fb65713"
      },
      "execution_count": 16,
      "outputs": [
        {
          "output_type": "stream",
          "name": "stdout",
          "text": [
            "Copying gs://angelo_crime_data/Chicago_Crimes_2001_to_2004.csv...\n",
            "/ [0/4 files][    0.0 B/  1.8 GiB]   0% Done                                    \rCopying gs://angelo_crime_data/Chicago_Crimes_2005_to_2007.csv...\n",
            "/ [0/4 files][    0.0 B/  1.8 GiB]   0% Done                                    \rCopying gs://angelo_crime_data/Chicago_Crimes_2008_to_2011.csv...\n",
            "Copying gs://angelo_crime_data/Chicago_Crimes_2012_to_2017.csv...\n",
            "\\ [4/4 files][  1.8 GiB/  1.8 GiB] 100% Done  42.6 MiB/s ETA 00:00:00           \n",
            "Operation completed over 4 objects/1.8 GiB.                                      \n"
          ]
        }
      ]
    },
    {
      "cell_type": "code",
      "execution_count": 17,
      "metadata": {
        "colab": {
          "base_uri": "https://localhost:8080/"
        },
        "id": "fyafw6P0B11l",
        "outputId": "ffbaf714-7429-4642-bb0e-77a8aa5dd11c"
      },
      "outputs": [
        {
          "output_type": "stream",
          "name": "stdout",
          "text": [
            "total 1.9G\n",
            "-rw-r--r-- 1 root root 454M Feb  3 05:55 Chicago_Crimes_2001_to_2004.csv\n",
            "-rw-r--r-- 1 root root 450M Feb  3 05:55 Chicago_Crimes_2005_to_2007.csv\n",
            "-rw-r--r-- 1 root root 647M Feb  3 05:55 Chicago_Crimes_2008_to_2011.csv\n",
            "-rw-r--r-- 1 root root 350M Feb  3 05:55 Chicago_Crimes_2012_to_2017.csv\n"
          ]
        }
      ],
      "source": [
        "!ls -lh data/"
      ]
    },
    {
      "cell_type": "markdown",
      "metadata": {
        "id": "4aYYYo3wB11l"
      },
      "source": [
        "---\n",
        "## Lecture des données\n",
        "\n",
        "Avec l'opération `csv read` de spark, nous allons lire et parser les fichiers. Le résultat sera un seul DataFrame :"
      ]
    },
    {
      "cell_type": "code",
      "execution_count": 18,
      "metadata": {
        "id": "jM8fs9TgB11l"
      },
      "outputs": [],
      "source": [
        "df = spark.read.csv('./data/*.csv', inferSchema=True, header=True)"
      ]
    },
    {
      "cell_type": "markdown",
      "source": [
        "Note : ce qui prend vraiment le temps est la découverte du schéma : on n'a pas tellement de lignes, après tout."
      ],
      "metadata": {
        "id": "Rz6WzWjsl1H1"
      }
    },
    {
      "cell_type": "code",
      "execution_count": 19,
      "metadata": {
        "id": "x6Fm4rReB11m"
      },
      "outputs": [],
      "source": [
        "# Ce DataFrame sera mis en cache (gardé en mémoire) car il sera utilisé plusieurs fois.\n",
        "df = df.cache()"
      ]
    },
    {
      "cell_type": "code",
      "execution_count": 20,
      "metadata": {
        "colab": {
          "base_uri": "https://localhost:8080/"
        },
        "id": "3lSK8YawB11m",
        "outputId": "2535bb87-95f7-4e7b-9d72-8978478f7f86"
      },
      "outputs": [
        {
          "output_type": "stream",
          "name": "stdout",
          "text": [
            "root\n",
            " |-- _c0: integer (nullable = true)\n",
            " |-- ID: integer (nullable = true)\n",
            " |-- Case Number: string (nullable = true)\n",
            " |-- Date: string (nullable = true)\n",
            " |-- Block: string (nullable = true)\n",
            " |-- IUCR: string (nullable = true)\n",
            " |-- Primary Type: string (nullable = true)\n",
            " |-- Description: string (nullable = true)\n",
            " |-- Location Description: string (nullable = true)\n",
            " |-- Arrest: string (nullable = true)\n",
            " |-- Domestic: string (nullable = true)\n",
            " |-- Beat: string (nullable = true)\n",
            " |-- District: string (nullable = true)\n",
            " |-- Ward: string (nullable = true)\n",
            " |-- Community Area: string (nullable = true)\n",
            " |-- FBI Code: string (nullable = true)\n",
            " |-- X Coordinate: string (nullable = true)\n",
            " |-- Y Coordinate: string (nullable = true)\n",
            " |-- Year: string (nullable = true)\n",
            " |-- Updated On: string (nullable = true)\n",
            " |-- Latitude: string (nullable = true)\n",
            " |-- Longitude: string (nullable = true)\n",
            " |-- Location: string (nullable = true)\n",
            "\n"
          ]
        }
      ],
      "source": [
        "# Affichage du schéma (structure) du dataframe\n",
        "df.printSchema()"
      ]
    },
    {
      "cell_type": "markdown",
      "metadata": {
        "id": "mMrTfRz_B11m"
      },
      "source": [
        "---\n",
        "**Nous allons renommer les colonnes pour permettre l'utilisation de la notation \"point\" (ex : df.colonne)**"
      ]
    },
    {
      "cell_type": "code",
      "execution_count": 21,
      "metadata": {
        "id": "nuhDY6DyB11m"
      },
      "outputs": [],
      "source": [
        "for h in header_dics:\n",
        "    df = df.withColumnRenamed(h['title'], h['header'])"
      ]
    },
    {
      "cell_type": "markdown",
      "metadata": {
        "id": "wi9n1CYaB11n"
      },
      "source": [
        "Certaines lignes de n'ont aucune valeur déclarée à la colonne `location_description` . C'est le moment de les supprimer.\n",
        "\n",
        "Ici, vous avez l'example en utilisant l'appel `rdd.filter` call. Votre première *mission* est de faire ma même chose mais en utilisant la fonction **`Dataset.filter`**."
      ]
    },
    {
      "cell_type": "code",
      "execution_count": 22,
      "metadata": {
        "id": "CW8QQHgPB11n"
      },
      "outputs": [],
      "source": [
        "#df = df.rdd.filter(lambda rec: rec.arrest.find('Location Description') < 0).toDF().cache()"
      ]
    },
    {
      "cell_type": "code",
      "source": [
        "# à vous de jouer\n"
      ],
      "metadata": {
        "id": "1LQyYPtcbtnQ"
      },
      "execution_count": 22,
      "outputs": []
    },
    {
      "cell_type": "markdown",
      "metadata": {
        "id": "qr_YRLdkB11n"
      },
      "source": [
        "Un petit aperçu du début du dataframe : "
      ]
    },
    {
      "cell_type": "code",
      "execution_count": 23,
      "metadata": {
        "colab": {
          "base_uri": "https://localhost:8080/"
        },
        "id": "ym9AaXn0B11n",
        "outputId": "b63333bc-36d6-42fa-8b5f-aaed99204bc5"
      },
      "outputs": [
        {
          "output_type": "stream",
          "name": "stdout",
          "text": [
            "+----+-------+-----------+----------------------+-------------------+----+--------------------------+-----------------------------+--------------------+------+--------+----+--------+----+--------------+--------+------------+------------+----+----------------------+------------+-------------+-----------------------------+\n",
            "|_c0 |id     |case_number|date                  |block              |iucr|primary_type              |description                  |location_description|arrest|domestic|beat|district|ward|community_area|fbi_code|x_coordinate|y_coordinate|year|updated_on            |latitude    |longitude    |location                     |\n",
            "+----+-------+-----------+----------------------+-------------------+----+--------------------------+-----------------------------+--------------------+------+--------+----+--------+----+--------------+--------+------------+------------+----+----------------------+------------+-------------+-----------------------------+\n",
            "|879 |4786321|HM399414   |01/01/2004 12:01:00 AM|082XX S COLES AVE  |0840|THEFT                     |FINANCIAL ID THEFT: OVER $300|RESIDENCE           |False |False   |424 |4.0     |7.0 |46.0          |06      |null        |null        |2004|08/17/2015 03:03:40 PM|null        |null         |null                         |\n",
            "|2544|4676906|HM278933   |03/01/2003 12:00:00 AM|004XX W 42ND PL    |2825|OTHER OFFENSE             |HARASSMENT BY TELEPHONE      |RESIDENCE           |False |True    |935 |9.0     |11.0|61.0          |26      |1173974.0   |1876757.0   |2003|04/15/2016 08:55:02 AM|41.817229156|-87.637328162|(41.817229156, -87.637328162)|\n",
            "|2919|4789749|HM402220   |06/20/2004 11:00:00 AM|025XX N KIMBALL AVE|1752|OFFENSE INVOLVING CHILDREN|AGG CRIM SEX ABUSE FAM MEMBER|RESIDENCE           |False |False   |1413|14.0    |35.0|22.0          |20      |null        |null        |2004|08/17/2015 03:03:40 PM|null        |null         |null                         |\n",
            "+----+-------+-----------+----------------------+-------------------+----+--------------------------+-----------------------------+--------------------+------+--------+----+--------+----+--------------+--------+------------+------------+----+----------------------+------------+-------------+-----------------------------+\n",
            "only showing top 3 rows\n",
            "\n"
          ]
        }
      ],
      "source": [
        "df.show(n=3, truncate=False)"
      ]
    },
    {
      "cell_type": "markdown",
      "metadata": {
        "id": "ykY8IxXaB11o"
      },
      "source": [
        "---\n",
        "## Comprendre les données"
      ]
    },
    {
      "cell_type": "code",
      "execution_count": 24,
      "metadata": {
        "id": "o_8EqKGnB11o"
      },
      "outputs": [],
      "source": [
        "# crime types\n",
        "crime_type_groups = df.groupBy('primary_type').count()"
      ]
    },
    {
      "cell_type": "code",
      "execution_count": 25,
      "metadata": {
        "id": "sB7L2nGJB11o"
      },
      "outputs": [],
      "source": [
        "crime_type_counts = crime_type_groups.orderBy('count', ascending=False)"
      ]
    },
    {
      "cell_type": "markdown",
      "metadata": {
        "id": "cgrBK30fB11o"
      },
      "source": [
        "Jusqu'à ici ça a été rapide : Spark fait une exécution *lazy*, i.e., il n'a fait qu'enregistrer les *transformations* à applier. Il attendra pour lancer l'exécution uniquement lorsqu'une *action* est demandée (par exemple, afficher le résultat).\n",
        "\n",
        "Dans la ligne suivante on demande le nombre total de lignes, mais en fait il va appliquer les modifications, faire le filtrage, etc. Ça prendra un certain temps, au moins 7 minutes."
      ]
    },
    {
      "cell_type": "code",
      "execution_count": 19,
      "metadata": {
        "colab": {
          "base_uri": "https://localhost:8080/"
        },
        "id": "F-Ek_ORlB11o",
        "outputId": "53e348d5-7042-4edd-92f3-6ee2acf8b986"
      },
      "outputs": [
        {
          "output_type": "stream",
          "name": "stdout",
          "text": [
            "7941285\n"
          ]
        }
      ],
      "source": [
        "print(df.count())"
      ]
    },
    {
      "cell_type": "markdown",
      "metadata": {
        "id": "wcAH2U26B11p"
      },
      "source": [
        "Et si on affiche les colonnes (nos futures `features`) ? "
      ]
    },
    {
      "cell_type": "code",
      "execution_count": 26,
      "metadata": {
        "id": "IAioKeduB11p",
        "outputId": "4ae2ecfd-44ad-4be3-ea0b-fdecbaeb93e7",
        "colab": {
          "base_uri": "https://localhost:8080/"
        }
      },
      "outputs": [
        {
          "output_type": "execute_result",
          "data": {
            "text/plain": [
              "['_c0',\n",
              " 'id',\n",
              " 'case_number',\n",
              " 'date',\n",
              " 'block',\n",
              " 'iucr',\n",
              " 'primary_type',\n",
              " 'description',\n",
              " 'location_description',\n",
              " 'arrest',\n",
              " 'domestic',\n",
              " 'beat',\n",
              " 'district',\n",
              " 'ward',\n",
              " 'community_area',\n",
              " 'fbi_code',\n",
              " 'x_coordinate',\n",
              " 'y_coordinate',\n",
              " 'year',\n",
              " 'updated_on',\n",
              " 'latitude',\n",
              " 'longitude',\n",
              " 'location']"
            ]
          },
          "metadata": {},
          "execution_count": 26
        }
      ],
      "source": [
        "df.columns"
      ]
    },
    {
      "cell_type": "code",
      "execution_count": 27,
      "metadata": {
        "id": "RS7fhXJ0B11p",
        "outputId": "65cd8ae9-08b2-4bd2-c27c-355676033674",
        "colab": {
          "base_uri": "https://localhost:8080/"
        }
      },
      "outputs": [
        {
          "output_type": "stream",
          "name": "stdout",
          "text": [
            "root\n",
            " |-- _c0: long (nullable = true)\n",
            " |-- id: long (nullable = true)\n",
            " |-- case_number: string (nullable = true)\n",
            " |-- date: string (nullable = true)\n",
            " |-- block: string (nullable = true)\n",
            " |-- iucr: string (nullable = true)\n",
            " |-- primary_type: string (nullable = true)\n",
            " |-- description: string (nullable = true)\n",
            " |-- location_description: string (nullable = true)\n",
            " |-- arrest: string (nullable = true)\n",
            " |-- domestic: string (nullable = true)\n",
            " |-- beat: string (nullable = true)\n",
            " |-- district: string (nullable = true)\n",
            " |-- ward: string (nullable = true)\n",
            " |-- community_area: string (nullable = true)\n",
            " |-- fbi_code: string (nullable = true)\n",
            " |-- x_coordinate: string (nullable = true)\n",
            " |-- y_coordinate: string (nullable = true)\n",
            " |-- year: string (nullable = true)\n",
            " |-- updated_on: string (nullable = true)\n",
            " |-- latitude: string (nullable = true)\n",
            " |-- longitude: string (nullable = true)\n",
            " |-- location: string (nullable = true)\n",
            "\n"
          ]
        }
      ],
      "source": [
        "#Encore une fois, quel est le schéma (cette fois-ci, avec les noms \"harmonisés\") ?\n",
        "df.printSchema()"
      ]
    },
    {
      "cell_type": "markdown",
      "metadata": {
        "id": "5allZo4IB11p"
      },
      "source": [
        "### Types de Crime\n",
        "\n",
        "La commande suivante affiche les 20 types de crime les plus fréquents :"
      ]
    },
    {
      "cell_type": "code",
      "execution_count": 28,
      "metadata": {
        "id": "I0G89nlsB11q",
        "outputId": "a3f6ab6f-0190-4732-dfb2-68f54a7684e4",
        "colab": {
          "base_uri": "https://localhost:8080/"
        }
      },
      "outputs": [
        {
          "output_type": "stream",
          "name": "stdout",
          "text": [
            "+--------------------------------+-------+\n",
            "|primary_type                    |count  |\n",
            "+--------------------------------+-------+\n",
            "|THEFT                           |1640506|\n",
            "|BATTERY                         |1442717|\n",
            "|CRIMINAL DAMAGE                 |923000 |\n",
            "|NARCOTICS                       |885431 |\n",
            "|OTHER OFFENSE                   |491923 |\n",
            "|ASSAULT                         |481661 |\n",
            "|BURGLARY                        |470958 |\n",
            "|MOTOR VEHICLE THEFT             |370548 |\n",
            "|ROBBERY                         |300453 |\n",
            "|DECEPTIVE PRACTICE              |280931 |\n",
            "|CRIMINAL TRESPASS               |229367 |\n",
            "|PROSTITUTION                    |86401  |\n",
            "|WEAPONS VIOLATION               |77429  |\n",
            "|PUBLIC PEACE VIOLATION          |58548  |\n",
            "|OFFENSE INVOLVING CHILDREN      |51441  |\n",
            "|CRIM SEXUAL ASSAULT             |29868  |\n",
            "|SEX OFFENSE                     |28707  |\n",
            "|GAMBLING                        |18806  |\n",
            "|LIQUOR LAW VIOLATION            |17513  |\n",
            "|INTERFERENCE WITH PUBLIC OFFICER|15710  |\n",
            "+--------------------------------+-------+\n",
            "only showing top 20 rows\n",
            "\n"
          ]
        }
      ],
      "source": [
        "crime_type_counts.show(truncate=False)"
      ]
    },
    {
      "cell_type": "markdown",
      "metadata": {
        "id": "1nX9DLuuB11q"
      },
      "source": [
        "On peut faire un affichage plus propre (et d'autres opérations) en transformant ce dataframe en Pandas :\n",
        "\n",
        "``\n",
        "crime_type_counts.toPandas()\n",
        "``"
      ]
    },
    {
      "cell_type": "code",
      "source": [
        "counts_pddf = crime_type_counts.toPandas()"
      ],
      "metadata": {
        "id": "om_CpQ58oV0v"
      },
      "execution_count": 29,
      "outputs": []
    },
    {
      "cell_type": "code",
      "source": [
        "counts_pddf.head(10)"
      ],
      "metadata": {
        "colab": {
          "base_uri": "https://localhost:8080/",
          "height": 363
        },
        "id": "8YMYfXn6obj0",
        "outputId": "e3e91c60-e383-4f8f-f74d-ac3680914ec8"
      },
      "execution_count": 30,
      "outputs": [
        {
          "output_type": "execute_result",
          "data": {
            "text/html": [
              "\n",
              "  <div id=\"df-1db0aa52-b4ef-467e-8ee8-c56e02168daf\">\n",
              "    <div class=\"colab-df-container\">\n",
              "      <div>\n",
              "<style scoped>\n",
              "    .dataframe tbody tr th:only-of-type {\n",
              "        vertical-align: middle;\n",
              "    }\n",
              "\n",
              "    .dataframe tbody tr th {\n",
              "        vertical-align: top;\n",
              "    }\n",
              "\n",
              "    .dataframe thead th {\n",
              "        text-align: right;\n",
              "    }\n",
              "</style>\n",
              "<table border=\"1\" class=\"dataframe\">\n",
              "  <thead>\n",
              "    <tr style=\"text-align: right;\">\n",
              "      <th></th>\n",
              "      <th>primary_type</th>\n",
              "      <th>count</th>\n",
              "    </tr>\n",
              "  </thead>\n",
              "  <tbody>\n",
              "    <tr>\n",
              "      <th>0</th>\n",
              "      <td>THEFT</td>\n",
              "      <td>1640506</td>\n",
              "    </tr>\n",
              "    <tr>\n",
              "      <th>1</th>\n",
              "      <td>BATTERY</td>\n",
              "      <td>1442717</td>\n",
              "    </tr>\n",
              "    <tr>\n",
              "      <th>2</th>\n",
              "      <td>CRIMINAL DAMAGE</td>\n",
              "      <td>923000</td>\n",
              "    </tr>\n",
              "    <tr>\n",
              "      <th>3</th>\n",
              "      <td>NARCOTICS</td>\n",
              "      <td>885431</td>\n",
              "    </tr>\n",
              "    <tr>\n",
              "      <th>4</th>\n",
              "      <td>OTHER OFFENSE</td>\n",
              "      <td>491923</td>\n",
              "    </tr>\n",
              "    <tr>\n",
              "      <th>5</th>\n",
              "      <td>ASSAULT</td>\n",
              "      <td>481661</td>\n",
              "    </tr>\n",
              "    <tr>\n",
              "      <th>6</th>\n",
              "      <td>BURGLARY</td>\n",
              "      <td>470958</td>\n",
              "    </tr>\n",
              "    <tr>\n",
              "      <th>7</th>\n",
              "      <td>MOTOR VEHICLE THEFT</td>\n",
              "      <td>370548</td>\n",
              "    </tr>\n",
              "    <tr>\n",
              "      <th>8</th>\n",
              "      <td>ROBBERY</td>\n",
              "      <td>300453</td>\n",
              "    </tr>\n",
              "    <tr>\n",
              "      <th>9</th>\n",
              "      <td>DECEPTIVE PRACTICE</td>\n",
              "      <td>280931</td>\n",
              "    </tr>\n",
              "  </tbody>\n",
              "</table>\n",
              "</div>\n",
              "      <button class=\"colab-df-convert\" onclick=\"convertToInteractive('df-1db0aa52-b4ef-467e-8ee8-c56e02168daf')\"\n",
              "              title=\"Convert this dataframe to an interactive table.\"\n",
              "              style=\"display:none;\">\n",
              "        \n",
              "  <svg xmlns=\"http://www.w3.org/2000/svg\" height=\"24px\"viewBox=\"0 0 24 24\"\n",
              "       width=\"24px\">\n",
              "    <path d=\"M0 0h24v24H0V0z\" fill=\"none\"/>\n",
              "    <path d=\"M18.56 5.44l.94 2.06.94-2.06 2.06-.94-2.06-.94-.94-2.06-.94 2.06-2.06.94zm-11 1L8.5 8.5l.94-2.06 2.06-.94-2.06-.94L8.5 2.5l-.94 2.06-2.06.94zm10 10l.94 2.06.94-2.06 2.06-.94-2.06-.94-.94-2.06-.94 2.06-2.06.94z\"/><path d=\"M17.41 7.96l-1.37-1.37c-.4-.4-.92-.59-1.43-.59-.52 0-1.04.2-1.43.59L10.3 9.45l-7.72 7.72c-.78.78-.78 2.05 0 2.83L4 21.41c.39.39.9.59 1.41.59.51 0 1.02-.2 1.41-.59l7.78-7.78 2.81-2.81c.8-.78.8-2.07 0-2.86zM5.41 20L4 18.59l7.72-7.72 1.47 1.35L5.41 20z\"/>\n",
              "  </svg>\n",
              "      </button>\n",
              "      \n",
              "  <style>\n",
              "    .colab-df-container {\n",
              "      display:flex;\n",
              "      flex-wrap:wrap;\n",
              "      gap: 12px;\n",
              "    }\n",
              "\n",
              "    .colab-df-convert {\n",
              "      background-color: #E8F0FE;\n",
              "      border: none;\n",
              "      border-radius: 50%;\n",
              "      cursor: pointer;\n",
              "      display: none;\n",
              "      fill: #1967D2;\n",
              "      height: 32px;\n",
              "      padding: 0 0 0 0;\n",
              "      width: 32px;\n",
              "    }\n",
              "\n",
              "    .colab-df-convert:hover {\n",
              "      background-color: #E2EBFA;\n",
              "      box-shadow: 0px 1px 2px rgba(60, 64, 67, 0.3), 0px 1px 3px 1px rgba(60, 64, 67, 0.15);\n",
              "      fill: #174EA6;\n",
              "    }\n",
              "\n",
              "    [theme=dark] .colab-df-convert {\n",
              "      background-color: #3B4455;\n",
              "      fill: #D2E3FC;\n",
              "    }\n",
              "\n",
              "    [theme=dark] .colab-df-convert:hover {\n",
              "      background-color: #434B5C;\n",
              "      box-shadow: 0px 1px 3px 1px rgba(0, 0, 0, 0.15);\n",
              "      filter: drop-shadow(0px 1px 2px rgba(0, 0, 0, 0.3));\n",
              "      fill: #FFFFFF;\n",
              "    }\n",
              "  </style>\n",
              "\n",
              "      <script>\n",
              "        const buttonEl =\n",
              "          document.querySelector('#df-1db0aa52-b4ef-467e-8ee8-c56e02168daf button.colab-df-convert');\n",
              "        buttonEl.style.display =\n",
              "          google.colab.kernel.accessAllowed ? 'block' : 'none';\n",
              "\n",
              "        async function convertToInteractive(key) {\n",
              "          const element = document.querySelector('#df-1db0aa52-b4ef-467e-8ee8-c56e02168daf');\n",
              "          const dataTable =\n",
              "            await google.colab.kernel.invokeFunction('convertToInteractive',\n",
              "                                                     [key], {});\n",
              "          if (!dataTable) return;\n",
              "\n",
              "          const docLinkHtml = 'Like what you see? Visit the ' +\n",
              "            '<a target=\"_blank\" href=https://colab.research.google.com/notebooks/data_table.ipynb>data table notebook</a>'\n",
              "            + ' to learn more about interactive tables.';\n",
              "          element.innerHTML = '';\n",
              "          dataTable['output_type'] = 'display_data';\n",
              "          await google.colab.output.renderOutput(dataTable, element);\n",
              "          const docLink = document.createElement('div');\n",
              "          docLink.innerHTML = docLinkHtml;\n",
              "          element.appendChild(docLink);\n",
              "        }\n",
              "      </script>\n",
              "    </div>\n",
              "  </div>\n",
              "  "
            ],
            "text/plain": [
              "          primary_type    count\n",
              "0                THEFT  1640506\n",
              "1              BATTERY  1442717\n",
              "2      CRIMINAL DAMAGE   923000\n",
              "3            NARCOTICS   885431\n",
              "4        OTHER OFFENSE   491923\n",
              "5              ASSAULT   481661\n",
              "6             BURGLARY   470958\n",
              "7  MOTOR VEHICLE THEFT   370548\n",
              "8              ROBBERY   300453\n",
              "9   DECEPTIVE PRACTICE   280931"
            ]
          },
          "metadata": {},
          "execution_count": 30
        }
      ]
    },
    {
      "cell_type": "code",
      "execution_count": 31,
      "metadata": {
        "scrolled": false,
        "id": "eeJrB5AIB11r",
        "outputId": "99230477-ff90-4ee2-94d6-f8a8798adeee",
        "colab": {
          "base_uri": "https://localhost:8080/",
          "height": 389
        }
      },
      "outputs": [
        {
          "output_type": "execute_result",
          "data": {
            "text/plain": [
              "[Text(0, 0.5, 'Primary Type'), Text(0.5, 0, 'Crimes Record Count')]"
            ]
          },
          "metadata": {},
          "execution_count": 31
        },
        {
          "output_type": "display_data",
          "data": {
            "image/png": "[encoded data removed]",
            "text/plain": [
              "<Figure size 1440x576 with 1 Axes>"
            ]
          },
          "metadata": {}
        }
      ],
      "source": [
        "plt.rcParams[\"figure.figsize\"] = [20, 8]\n",
        "\n",
        "sns.set(style=\"whitegrid\")\n",
        "sns.set_color_codes(\"pastel\")\n",
        "\n",
        "#sns.despine(left=True, bottom=True)\n",
        "type_graph = sns.barplot(x='count', y='primary_type', data=counts_pddf)\n",
        "type_graph.set(ylabel=\"Primary Type\", xlabel=\"Crimes Record Count\")"
      ]
    },
    {
      "cell_type": "markdown",
      "metadata": {
        "id": "ya0LZ2NpB11r"
      },
      "source": [
        "### Période couverte"
      ]
    },
    {
      "cell_type": "code",
      "execution_count": 32,
      "metadata": {
        "id": "rYgM2EwoB11r"
      },
      "outputs": [],
      "source": [
        "import datetime\n",
        "from pyspark.sql.functions import *"
      ]
    },
    {
      "cell_type": "code",
      "execution_count": 33,
      "metadata": {
        "id": "6BlpR0ybB11r",
        "outputId": "432f3d92-67fe-46d6-db95-5ebb9917adb7",
        "colab": {
          "base_uri": "https://localhost:8080/"
        }
      },
      "outputs": [
        {
          "output_type": "stream",
          "name": "stdout",
          "text": [
            "+----------------------+----------------------+\n",
            "|first_record_date     |latest_record_date    |\n",
            "+----------------------+----------------------+\n",
            "|01/01/2001 01:00:00 AM|12/31/2016 12:56:00 AM|\n",
            "+----------------------+----------------------+\n",
            "\n"
          ]
        }
      ],
      "source": [
        "df.select(min('date').alias('first_record_date'), max('date').alias('latest_record_date')).show(truncate=False)"
      ]
    },
    {
      "cell_type": "markdown",
      "metadata": {
        "id": "tbEroH7VB11s"
      },
      "source": [
        "Ici, on voir que les fichiers couvrent la période entre le **2001-01-01** et le **2016-12-31**"
      ]
    },
    {
      "cell_type": "markdown",
      "metadata": {
        "id": "o2QC39keB11s"
      },
      "source": [
        "---\n",
        "Nous allons convertir les dates au format timestamp. En effet, le schéma montrait que le champ `date` était de type `string`, ce qui n'est pas très utile.\n",
        "\n",
        "Nous allons changer ce format afin de le lire sous la forme '02/23/2006 09:06:22 PM' , c'est à dire **`'MM/dd/yyyy hh:mm:ss a'`** (format américain).\n",
        "\n",
        "On va aussi rajouter une colonne `month` qui n'a pas les champs pour l'heure."
      ]
    },
    {
      "cell_type": "code",
      "execution_count": 34,
      "metadata": {
        "id": "oYzZl6iiB11s"
      },
      "outputs": [],
      "source": [
        "df = df.withColumn('date_time', to_timestamp('date', 'MM/dd/yyyy hh:mm:ss a'))\\\n",
        "       .withColumn('month', trunc('date_time', 'YYYY')) #adding a month column to be able to view stats on a monthly basis"
      ]
    },
    {
      "cell_type": "code",
      "execution_count": 35,
      "metadata": {
        "id": "u35zw7vgB11s",
        "outputId": "4d7f1cbc-b53f-428a-ebef-3f1e393a0d0d",
        "colab": {
          "base_uri": "https://localhost:8080/"
        }
      },
      "outputs": [
        {
          "output_type": "stream",
          "name": "stdout",
          "text": [
            "+----------------------+-------------------+----------+\n",
            "|date                  |date_time          |month     |\n",
            "+----------------------+-------------------+----------+\n",
            "|01/01/2004 12:01:00 AM|2004-01-01 00:01:00|2004-01-01|\n",
            "|03/01/2003 12:00:00 AM|2003-03-01 00:00:00|2003-01-01|\n",
            "+----------------------+-------------------+----------+\n",
            "only showing top 2 rows\n",
            "\n"
          ]
        }
      ],
      "source": [
        "df.select(['date','date_time', 'month'])\\\n",
        "  .show(n=2, truncate=False)"
      ]
    },
    {
      "cell_type": "markdown",
      "metadata": {
        "id": "qoeD7ctRB11s"
      },
      "source": [
        "### Combien d'arrestations ?"
      ]
    },
    {
      "cell_type": "code",
      "execution_count": 37,
      "metadata": {
        "id": "2a-2HrFHB11s",
        "outputId": "7ae5f1d4-1c30-4e68-ed64-b5c326d72a94",
        "colab": {
          "base_uri": "https://localhost:8080/"
        }
      },
      "outputs": [
        {
          "output_type": "stream",
          "name": "stdout",
          "text": [
            "\n",
            "+------+----------+------+\n",
            "|arrest|month     |count |\n",
            "+------+----------+------+\n",
            "|False |2001-01-01|400628|\n",
            "|True  |2001-01-01|167890|\n",
            "|False |2002-01-01|348074|\n",
            "+------+----------+------+\n",
            "only showing top 3 rows\n",
            "\n"
          ]
        }
      ],
      "source": [
        "# On peut utiliser la colonne month pour affiche les quantités d'arrestations au fil des années, groupées par mois :\n",
        "type_arrest_date = df.groupBy(['arrest', 'month'])\\\n",
        "                     .count()\\\n",
        "                     .orderBy(['month', 'count'], ascending=[True, False])\n",
        "print()\n",
        "type_arrest_date.show(3, truncate=False)"
      ]
    },
    {
      "cell_type": "code",
      "execution_count": 43,
      "metadata": {
        "id": "7UaqAX9WB11t"
      },
      "outputs": [],
      "source": [
        "# Une petite note sur le fonctionnement du type datetime\n",
        "import datetime"
      ]
    },
    {
      "cell_type": "code",
      "execution_count": 44,
      "metadata": {
        "id": "FwfmYvcgB11t",
        "outputId": "e6c88e4a-0bc6-480e-e618-821c8994f8d5",
        "colab": {
          "base_uri": "https://localhost:8080/",
          "height": 35
        }
      },
      "outputs": [
        {
          "output_type": "execute_result",
          "data": {
            "application/vnd.google.colaboratory.intrinsic+json": {
              "type": "string"
            },
            "text/plain": [
              "'23'"
            ]
          },
          "metadata": {},
          "execution_count": 44
        }
      ],
      "source": [
        "datetime.datetime.now()\n",
        "datetime.datetime.strftime(datetime.datetime.now(), '%H')"
      ]
    },
    {
      "cell_type": "code",
      "execution_count": 38,
      "metadata": {
        "id": "qg_kr995B11t"
      },
      "outputs": [],
      "source": [
        "# Ici on crée un dataframe Pandas à partir des informations ci-dessous :\n",
        "type_arrest_pddf = pd.DataFrame(type_arrest_date.rdd.map(lambda l: l.asDict()).collect())"
      ]
    },
    {
      "cell_type": "markdown",
      "metadata": {
        "id": "keJ4m_7eB11t"
      },
      "source": [
        "Encore une fois, nous allons convertir les types de jour/temps pour Pandas\n",
        "\n",
        "*Certaines choses ne sont pas nécessaires, mais bon...*"
      ]
    },
    {
      "cell_type": "code",
      "execution_count": 39,
      "metadata": {
        "id": "Li4fZcYoB11t"
      },
      "outputs": [],
      "source": [
        "type_arrest_pddf['yearpd'] = type_arrest_pddf['month'].apply(lambda dt: datetime.datetime.strftime(pd.Timestamp(dt), '%Y'))"
      ]
    },
    {
      "cell_type": "code",
      "execution_count": 40,
      "metadata": {
        "id": "FbwbSdY6B11u",
        "outputId": "b43fb56c-be7b-4186-f28d-c02b735352d1",
        "colab": {
          "base_uri": "https://localhost:8080/",
          "height": 206
        }
      },
      "outputs": [
        {
          "output_type": "execute_result",
          "data": {
            "text/html": [
              "\n",
              "  <div id=\"df-9ebbc050-8bf7-4d7c-b7a3-af0ea0bfe0de\">\n",
              "    <div class=\"colab-df-container\">\n",
              "      <div>\n",
              "<style scoped>\n",
              "    .dataframe tbody tr th:only-of-type {\n",
              "        vertical-align: middle;\n",
              "    }\n",
              "\n",
              "    .dataframe tbody tr th {\n",
              "        vertical-align: top;\n",
              "    }\n",
              "\n",
              "    .dataframe thead th {\n",
              "        text-align: right;\n",
              "    }\n",
              "</style>\n",
              "<table border=\"1\" class=\"dataframe\">\n",
              "  <thead>\n",
              "    <tr style=\"text-align: right;\">\n",
              "      <th></th>\n",
              "      <th>arrest</th>\n",
              "      <th>month</th>\n",
              "      <th>count</th>\n",
              "      <th>yearpd</th>\n",
              "    </tr>\n",
              "  </thead>\n",
              "  <tbody>\n",
              "    <tr>\n",
              "      <th>0</th>\n",
              "      <td>False</td>\n",
              "      <td>2001-01-01</td>\n",
              "      <td>400628</td>\n",
              "      <td>2001</td>\n",
              "    </tr>\n",
              "    <tr>\n",
              "      <th>1</th>\n",
              "      <td>True</td>\n",
              "      <td>2001-01-01</td>\n",
              "      <td>167890</td>\n",
              "      <td>2001</td>\n",
              "    </tr>\n",
              "    <tr>\n",
              "      <th>2</th>\n",
              "      <td>False</td>\n",
              "      <td>2002-01-01</td>\n",
              "      <td>348074</td>\n",
              "      <td>2002</td>\n",
              "    </tr>\n",
              "    <tr>\n",
              "      <th>3</th>\n",
              "      <td>True</td>\n",
              "      <td>2002-01-01</td>\n",
              "      <td>142805</td>\n",
              "      <td>2002</td>\n",
              "    </tr>\n",
              "    <tr>\n",
              "      <th>4</th>\n",
              "      <td>False</td>\n",
              "      <td>2003-01-01</td>\n",
              "      <td>334414</td>\n",
              "      <td>2003</td>\n",
              "    </tr>\n",
              "  </tbody>\n",
              "</table>\n",
              "</div>\n",
              "      <button class=\"colab-df-convert\" onclick=\"convertToInteractive('df-9ebbc050-8bf7-4d7c-b7a3-af0ea0bfe0de')\"\n",
              "              title=\"Convert this dataframe to an interactive table.\"\n",
              "              style=\"display:none;\">\n",
              "        \n",
              "  <svg xmlns=\"http://www.w3.org/2000/svg\" height=\"24px\"viewBox=\"0 0 24 24\"\n",
              "       width=\"24px\">\n",
              "    <path d=\"M0 0h24v24H0V0z\" fill=\"none\"/>\n",
              "    <path d=\"M18.56 5.44l.94 2.06.94-2.06 2.06-.94-2.06-.94-.94-2.06-.94 2.06-2.06.94zm-11 1L8.5 8.5l.94-2.06 2.06-.94-2.06-.94L8.5 2.5l-.94 2.06-2.06.94zm10 10l.94 2.06.94-2.06 2.06-.94-2.06-.94-.94-2.06-.94 2.06-2.06.94z\"/><path d=\"M17.41 7.96l-1.37-1.37c-.4-.4-.92-.59-1.43-.59-.52 0-1.04.2-1.43.59L10.3 9.45l-7.72 7.72c-.78.78-.78 2.05 0 2.83L4 21.41c.39.39.9.59 1.41.59.51 0 1.02-.2 1.41-.59l7.78-7.78 2.81-2.81c.8-.78.8-2.07 0-2.86zM5.41 20L4 18.59l7.72-7.72 1.47 1.35L5.41 20z\"/>\n",
              "  </svg>\n",
              "      </button>\n",
              "      \n",
              "  <style>\n",
              "    .colab-df-container {\n",
              "      display:flex;\n",
              "      flex-wrap:wrap;\n",
              "      gap: 12px;\n",
              "    }\n",
              "\n",
              "    .colab-df-convert {\n",
              "      background-color: #E8F0FE;\n",
              "      border: none;\n",
              "      border-radius: 50%;\n",
              "      cursor: pointer;\n",
              "      display: none;\n",
              "      fill: #1967D2;\n",
              "      height: 32px;\n",
              "      padding: 0 0 0 0;\n",
              "      width: 32px;\n",
              "    }\n",
              "\n",
              "    .colab-df-convert:hover {\n",
              "      background-color: #E2EBFA;\n",
              "      box-shadow: 0px 1px 2px rgba(60, 64, 67, 0.3), 0px 1px 3px 1px rgba(60, 64, 67, 0.15);\n",
              "      fill: #174EA6;\n",
              "    }\n",
              "\n",
              "    [theme=dark] .colab-df-convert {\n",
              "      background-color: #3B4455;\n",
              "      fill: #D2E3FC;\n",
              "    }\n",
              "\n",
              "    [theme=dark] .colab-df-convert:hover {\n",
              "      background-color: #434B5C;\n",
              "      box-shadow: 0px 1px 3px 1px rgba(0, 0, 0, 0.15);\n",
              "      filter: drop-shadow(0px 1px 2px rgba(0, 0, 0, 0.3));\n",
              "      fill: #FFFFFF;\n",
              "    }\n",
              "  </style>\n",
              "\n",
              "      <script>\n",
              "        const buttonEl =\n",
              "          document.querySelector('#df-9ebbc050-8bf7-4d7c-b7a3-af0ea0bfe0de button.colab-df-convert');\n",
              "        buttonEl.style.display =\n",
              "          google.colab.kernel.accessAllowed ? 'block' : 'none';\n",
              "\n",
              "        async function convertToInteractive(key) {\n",
              "          const element = document.querySelector('#df-9ebbc050-8bf7-4d7c-b7a3-af0ea0bfe0de');\n",
              "          const dataTable =\n",
              "            await google.colab.kernel.invokeFunction('convertToInteractive',\n",
              "                                                     [key], {});\n",
              "          if (!dataTable) return;\n",
              "\n",
              "          const docLinkHtml = 'Like what you see? Visit the ' +\n",
              "            '<a target=\"_blank\" href=https://colab.research.google.com/notebooks/data_table.ipynb>data table notebook</a>'\n",
              "            + ' to learn more about interactive tables.';\n",
              "          element.innerHTML = '';\n",
              "          dataTable['output_type'] = 'display_data';\n",
              "          await google.colab.output.renderOutput(dataTable, element);\n",
              "          const docLink = document.createElement('div');\n",
              "          docLink.innerHTML = docLinkHtml;\n",
              "          element.appendChild(docLink);\n",
              "        }\n",
              "      </script>\n",
              "    </div>\n",
              "  </div>\n",
              "  "
            ],
            "text/plain": [
              "   arrest       month   count yearpd\n",
              "0   False  2001-01-01  400628   2001\n",
              "1    True  2001-01-01  167890   2001\n",
              "2   False  2002-01-01  348074   2002\n",
              "3    True  2002-01-01  142805   2002\n",
              "4   False  2003-01-01  334414   2003"
            ]
          },
          "metadata": {},
          "execution_count": 40
        }
      ],
      "source": [
        "type_arrest_pddf['arrest'] = type_arrest_pddf['arrest'].apply(lambda l: l=='True')\n",
        "type_arrest_pddf.head(5)"
      ]
    },
    {
      "cell_type": "markdown",
      "metadata": {
        "id": "ox4oZ41EB11u"
      },
      "source": [
        "### Comment le nombre d'emprisonnements a évolué au fil des 16 ans de collecte de données ?"
      ]
    },
    {
      "cell_type": "code",
      "execution_count": 41,
      "metadata": {
        "id": "Fv7WIGYJB11u",
        "outputId": "1f3118e2-3161-48b5-f035-3a9163cf7342",
        "colab": {
          "base_uri": "https://localhost:8080/",
          "height": 455
        }
      },
      "outputs": [
        {
          "output_type": "execute_result",
          "data": {
            "text/plain": [
              "<matplotlib.legend.Legend at 0x7fc880adc850>"
            ]
          },
          "metadata": {},
          "execution_count": 41
        },
        {
          "output_type": "display_data",
          "data": {
            "image/png": "[encoded data removed]",
            "text/plain": [
              "<Figure size 1440x576 with 1 Axes>"
            ]
          },
          "metadata": {}
        }
      ],
      "source": [
        "# Data for plotting\n",
        "t = type_arrest_pddf['count'] - 20 # np.arange(0.0, 2.0, 0.01)\n",
        "s = type_arrest_pddf['month']\n",
        "\n",
        "arrested = type_arrest_pddf[type_arrest_pddf['arrest'] == True]\n",
        "not_arrested = type_arrest_pddf[type_arrest_pddf['arrest'] == False]\n",
        "\n",
        "# Note that using plt.subplots below is equivalent to using\n",
        "# fig = plt.figure() and then ax = fig.add_subplot(111)\n",
        "fig, ax = plt.subplots()\n",
        "ax.plot(arrested['month'], arrested['count'], label='Arrested')\n",
        "ax.plot(not_arrested['month'], not_arrested['count'], label='Not Arrested')\n",
        "\n",
        "ax.set(xlabel='Year - 2001-2017', ylabel='Total records',\n",
        "       title='Year-on-year crime records')\n",
        "ax.grid(b=True, which='both', axis='y')\n",
        "ax.legend()"
      ]
    },
    {
      "cell_type": "markdown",
      "metadata": {
        "id": "1Nzqu3l3B11u"
      },
      "source": [
        "Mis à part la fin de 2016, la \"distance\" relative entre arrestations et non-arrestations est plus ou moins constante."
      ]
    },
    {
      "cell_type": "markdown",
      "metadata": {
        "id": "MVUmuvVIB11u"
      },
      "source": [
        "### À quel moment de la journée les criminels sont plus actifs ?\n",
        "\n",
        "Ici c'est à vous de refaire le même type d'opération. Je vais juste vous montrer comment créer une colonne avec les heures."
      ]
    },
    {
      "cell_type": "code",
      "execution_count": 42,
      "metadata": {
        "id": "zHDjY5bBB11v"
      },
      "outputs": [],
      "source": [
        "# Extract the \"hour\" field from the date into a separate column called \"hour\"\n",
        "df_hour = df.withColumn('hour', hour(df['date_time']))"
      ]
    },
    {
      "cell_type": "code",
      "execution_count": 43,
      "metadata": {
        "id": "JsZNEJXZB11v"
      },
      "outputs": [],
      "source": [
        "# Derive a data frame with crime counts per hour of the day:\n",
        "hourly_count = df_hour.groupBy(['primary_type', 'hour']).count().cache()\n",
        "hourly_total_count = hourly_count.groupBy('hour').sum('count')"
      ]
    },
    {
      "cell_type": "code",
      "execution_count": 44,
      "metadata": {
        "id": "hVeHieTYB11v"
      },
      "outputs": [],
      "source": [
        "hourly_count_pddf = pd.DataFrame(hourly_total_count.select(hourly_total_count['hour'], hourly_total_count['sum(count)'].alias('count'))\\\n",
        "                                .rdd.map(lambda l: l.asDict())\\\n",
        "                                 .collect())"
      ]
    },
    {
      "cell_type": "code",
      "execution_count": 45,
      "metadata": {
        "id": "vGf_KjlJB11v"
      },
      "outputs": [],
      "source": [
        "hourly_count_pddf = hourly_count_pddf.sort_values(by='hour')"
      ]
    },
    {
      "cell_type": "code",
      "execution_count": 46,
      "metadata": {
        "id": "S08QHOlBB11v",
        "outputId": "fc200702-f95c-4a19-eedd-7d1b26823502",
        "colab": {
          "base_uri": "https://localhost:8080/",
          "height": 455
        }
      },
      "outputs": [
        {
          "output_type": "execute_result",
          "data": {
            "text/plain": [
              "<matplotlib.legend.Legend at 0x7fc8809ef8d0>"
            ]
          },
          "metadata": {},
          "execution_count": 46
        },
        {
          "output_type": "display_data",
          "data": {
            "image/png": "[encoded data removed]",
            "text/plain": [
              "<Figure size 1440x576 with 1 Axes>"
            ]
          },
          "metadata": {}
        }
      ],
      "source": [
        "fig, ax = plt.subplots()\n",
        "ax.plot(hourly_count_pddf['hour'], hourly_count_pddf['count'], label='Hourly Count')\n",
        "\n",
        "ax.set(xlabel='Hour of Day', ylabel='Total records',\n",
        "       title='Overall hourly crime numbers')\n",
        "ax.grid(b=True, which='both', axis='y')\n",
        "ax.legend()"
      ]
    },
    {
      "cell_type": "markdown",
      "metadata": {
        "id": "bMZ2MN6dB11v"
      },
      "source": [
        "Il semble que c'est plus agité entre 18h et 22h... avec un pic à minuit et autre à midi.\n",
        "\n"
      ]
    },
    {
      "cell_type": "markdown",
      "metadata": {
        "id": "I6rHrROiB11w"
      },
      "source": [
        "### Dans que type d'endroit les crimes sont commis ? "
      ]
    },
    {
      "cell_type": "code",
      "execution_count": 55,
      "metadata": {
        "id": "mBdTg6GRB11w",
        "outputId": "112e6967-63a6-47dd-95db-affa89d71db9",
        "colab": {
          "base_uri": "https://localhost:8080/"
        }
      },
      "outputs": [
        {
          "output_type": "execute_result",
          "data": {
            "text/plain": [
              "173"
            ]
          },
          "metadata": {},
          "execution_count": 55
        }
      ],
      "source": [
        "# Combien de types d'endroit sont recensés\n",
        "df.select('location_description').distinct().count()"
      ]
    },
    {
      "cell_type": "markdown",
      "metadata": {
        "id": "lsllA6BgB11w"
      },
      "source": [
        "Quels sont les top 10 endroits ?"
      ]
    },
    {
      "cell_type": "code",
      "execution_count": 56,
      "metadata": {
        "id": "8OpMDWEBB11w",
        "outputId": "ad14e35b-98b0-4151-ccb1-1696c983ef51",
        "colab": {
          "base_uri": "https://localhost:8080/"
        }
      },
      "outputs": [
        {
          "output_type": "stream",
          "name": "stdout",
          "text": [
            "+--------------------+-------+\n",
            "|location_description|  count|\n",
            "+--------------------+-------+\n",
            "|              STREET|2101843|\n",
            "|           RESIDENCE|1341750|\n",
            "|            SIDEWALK| 815595|\n",
            "|           APARTMENT| 812512|\n",
            "|               OTHER| 294286|\n",
            "|PARKING LOT/GARAG...| 225454|\n",
            "|               ALLEY| 180155|\n",
            "|SCHOOL, PUBLIC, B...| 173750|\n",
            "|    RESIDENCE-GARAGE| 158550|\n",
            "|RESIDENCE PORCH/H...| 138492|\n",
            "+--------------------+-------+\n",
            "only showing top 10 rows\n",
            "\n"
          ]
        }
      ],
      "source": [
        "df.groupBy(['location_description']).count().orderBy('count', ascending=False).show(10)"
      ]
    },
    {
      "cell_type": "markdown",
      "metadata": {
        "id": "Ey4LQDQWB11x"
      },
      "source": [
        "### Domestic crimes:"
      ]
    },
    {
      "cell_type": "code",
      "execution_count": 47,
      "metadata": {
        "id": "dQDWislWB11x"
      },
      "outputs": [],
      "source": [
        "domestic_hour = pd.DataFrame(df_hour.groupBy(['domestic', 'hour']).count().orderBy('hour').rdd.map(lambda row: row.asDict()).collect())"
      ]
    },
    {
      "cell_type": "code",
      "execution_count": 48,
      "metadata": {
        "id": "WZh_59qwB11x"
      },
      "outputs": [],
      "source": [
        "dom = domestic_hour[domestic_hour['domestic'] == 'True']['count']\n",
        "non_dom = domestic_hour[domestic_hour['domestic'] == 'False']['count']\n",
        "\n",
        "either_dom = domestic_hour.groupby(by=['hour']).sum()['count']\n",
        "\n",
        "dom_keys = domestic_hour[domestic_hour['domestic'] == 'False']['hour']"
      ]
    },
    {
      "cell_type": "markdown",
      "metadata": {
        "id": "4B3ZPcQWB11y"
      },
      "source": [
        "#### How do domestic crimes compare the other crimes?"
      ]
    },
    {
      "cell_type": "code",
      "execution_count": 50,
      "metadata": {
        "id": "ZFlLFczPB11y",
        "outputId": "76f24587-ae25-474c-8d5a-f5ff4a1404c7",
        "colab": {
          "base_uri": "https://localhost:8080/",
          "height": 433
        }
      },
      "outputs": [
        {
          "output_type": "execute_result",
          "data": {
            "text/plain": [
              "<matplotlib.legend.Legend at 0x7fc88087f850>"
            ]
          },
          "metadata": {},
          "execution_count": 50
        },
        {
          "output_type": "display_data",
          "data": {
            "image/png": "[encoded data removed]",
            "text/plain": [
              "<Figure size 1440x576 with 1 Axes>"
            ]
          },
          "metadata": {}
        }
      ],
      "source": [
        "figure, axes = plt.subplots()\n",
        "\n",
        "axes.plot(dom_keys, either_dom, label='Total hourly count')\n",
        "axes.plot(dom_keys, dom, label='Domestic crime count')\n",
        "axes.plot(dom_keys, non_dom, label='Non-Domestic hourly count')\n",
        "\n",
        "axes.legend()\n",
        "#axes.grid(which='b', b=True)"
      ]
    },
    {
      "cell_type": "markdown",
      "metadata": {
        "id": "hm1PpuWiB11y"
      },
      "source": [
        "### A closer look at crime date and time\n",
        "\n",
        "The information given here indicates when the crime is perpetrated. The date/time field may be able to draw a meaningful trend that can be used to predict crime. However, I believe that this leads much more to external factors, such as policy changes, law inforcement-related factors, and so on.\n",
        "\n",
        "It's much more likely that time-related features that are more closely relatable to crime occurence be better predictors than the date and time. I mean, knowing the month of the year, the day of the week, and the hour of the day that the crime occurred can enable better chances of predicting accurately than simply knowing \"when\" AD crimes occurred."
      ]
    },
    {
      "cell_type": "markdown",
      "metadata": {
        "id": "W8ZdrIGpB11y"
      },
      "source": [
        "Adding predictors (so far fields) that read time information:\n",
        "\n",
        " * hour of day (already added the 'hour' field)\n",
        " * day of week\n",
        " * month of year\n",
        " * day in a range. Instead of using the entire date-time, we'll use a \"day sequence\" that is counted from 2001-01-01."
      ]
    },
    {
      "cell_type": "code",
      "execution_count": 51,
      "metadata": {
        "id": "79-une_QB11y"
      },
      "outputs": [],
      "source": [
        "df_dates = df_hour.withColumn('week_day', dayofweek(df_hour['date_time']))\\\n",
        "                 .withColumn('year_month', month(df_hour['date_time']))\\\n",
        "                 .withColumn('month_day', dayofmonth(df_hour['date_time']))\\\n",
        "                 .withColumn('date_number', datediff(df['date_time'], to_date(lit('2001-01-01'), format='yyyy-MM-dd')))\\\n",
        "                 .cache()"
      ]
    },
    {
      "cell_type": "code",
      "execution_count": 52,
      "metadata": {
        "id": "7RKdwEk5B11y",
        "outputId": "c27932aa-87bf-4086-cad8-de857e00a719",
        "colab": {
          "base_uri": "https://localhost:8080/"
        }
      },
      "outputs": [
        {
          "output_type": "stream",
          "name": "stdout",
          "text": [
            "+----------------------+----------+----+--------+----+----------+---------+-----------+\n",
            "|date                  |month     |hour|week_day|year|year_month|month_day|date_number|\n",
            "+----------------------+----------+----+--------+----+----------+---------+-----------+\n",
            "|01/01/2004 12:01:00 AM|2004-01-01|0   |5       |2004|1         |1        |1095       |\n",
            "|03/01/2003 12:00:00 AM|2003-01-01|0   |7       |2003|3         |1        |789        |\n",
            "|06/20/2004 11:00:00 AM|2004-01-01|11  |1       |2004|6         |20       |1266       |\n",
            "|12/30/2004 08:00:00 PM|2004-01-01|20  |5       |2004|12        |30       |1459       |\n",
            "|05/01/2003 01:00:00 AM|2003-01-01|1   |5       |2003|5         |1        |850        |\n",
            "|08/01/2004 12:01:00 AM|2004-01-01|0   |1       |2004|8         |1        |1308       |\n",
            "|01/01/2001 11:00:00 AM|2001-01-01|11  |2       |2001|1         |1        |0          |\n",
            "|03/15/2003 12:00:00 AM|2003-01-01|0   |7       |2003|3         |15       |803        |\n",
            "|09/16/2004 10:00:00 AM|2004-01-01|10  |5       |2004|9         |16       |1354       |\n",
            "|01/01/2003 12:00:00 AM|2003-01-01|0   |4       |2003|1         |1        |730        |\n",
            "|06/05/2003 12:00:00 AM|2003-01-01|0   |5       |2003|6         |5        |885        |\n",
            "|11/01/2004 12:01:00 AM|2004-01-01|0   |2       |2004|11        |1        |1400       |\n",
            "|01/01/2003 12:00:00 AM|2003-01-01|0   |4       |2003|1         |1        |730        |\n",
            "|11/01/2004 12:00:00 AM|2004-01-01|0   |2       |2004|11        |1        |1400       |\n",
            "|11/01/2003 08:00:00 AM|2003-01-01|8   |7       |2003|11        |1        |1034       |\n",
            "|11/15/2003 09:00:00 AM|2003-01-01|9   |7       |2003|11        |15       |1048       |\n",
            "|01/02/2003 08:00:00 AM|2003-01-01|8   |5       |2003|1         |2        |731        |\n",
            "|01/01/2001 12:00:00 AM|2001-01-01|0   |2       |2001|1         |1        |0          |\n",
            "|01/01/2001 12:00:00 AM|2001-01-01|0   |2       |2001|1         |1        |0          |\n",
            "|06/14/2002 04:00:00 PM|2002-01-01|16  |6       |2002|6         |14       |529        |\n",
            "+----------------------+----------+----+--------+----+----------+---------+-----------+\n",
            "only showing top 20 rows\n",
            "\n"
          ]
        }
      ],
      "source": [
        "df_dates.select(['date', 'month', 'hour', 'week_day', 'year', 'year_month', 'month_day', 'date_number']).show(20, truncate=False)"
      ]
    },
    {
      "cell_type": "markdown",
      "metadata": {
        "id": "NmRBhvqaB11z"
      },
      "source": [
        "## Day of week crime levels\n",
        "\n",
        "It seems intriguing that the're little variance... But bad people are bad all week, aren't they..."
      ]
    },
    {
      "cell_type": "code",
      "execution_count": 53,
      "metadata": {
        "id": "Zl-mAsJWB11z"
      },
      "outputs": [],
      "source": [
        "week_day_crime_counts = df_dates.groupBy('week_day').count()"
      ]
    },
    {
      "cell_type": "code",
      "execution_count": 54,
      "metadata": {
        "id": "3KSUHQv7B11z"
      },
      "outputs": [],
      "source": [
        "week_day_crime_counts_pddf = pd.DataFrame(week_day_crime_counts.orderBy('week_day').rdd.map(lambda e: e.asDict()).collect())"
      ]
    },
    {
      "cell_type": "code",
      "execution_count": 55,
      "metadata": {
        "id": "BIqgh5QZB11z",
        "outputId": "bb178cf8-7c0b-4bb1-f17f-f130afcaca8b",
        "colab": {
          "base_uri": "https://localhost:8080/",
          "height": 460
        }
      },
      "outputs": [
        {
          "output_type": "execute_result",
          "data": {
            "text/plain": [
              "<matplotlib.axes._subplots.AxesSubplot at 0x7fc8807f7510>"
            ]
          },
          "metadata": {},
          "execution_count": 55
        },
        {
          "output_type": "display_data",
          "data": {
            "image/png": "[encoded data removed]",
            "text/plain": [
              "<Figure size 1440x576 with 1 Axes>"
            ]
          },
          "metadata": {}
        }
      ],
      "source": [
        "sns.barplot(data=week_day_crime_counts_pddf, x='week_day', y='count')"
      ]
    },
    {
      "cell_type": "markdown",
      "metadata": {
        "id": "1POAD8TAB11z"
      },
      "source": [
        "## Month of year\n",
        "\n",
        "It seems that May-August are the busiest months for criminals... What could be the reason?"
      ]
    },
    {
      "cell_type": "code",
      "execution_count": 56,
      "metadata": {
        "id": "Uy7XMSlTB11z"
      },
      "outputs": [],
      "source": [
        "year_month_crime_counts = df_dates.groupBy('year_month').count()"
      ]
    },
    {
      "cell_type": "code",
      "execution_count": 57,
      "metadata": {
        "id": "wEkU_VsRB110"
      },
      "outputs": [],
      "source": [
        "year_month_crime_counts_pddf = pd.DataFrame(year_month_crime_counts.orderBy('year_month').rdd.map(lambda e: e.asDict()).collect())"
      ]
    },
    {
      "cell_type": "code",
      "execution_count": 58,
      "metadata": {
        "id": "Oa8ai64PB110",
        "outputId": "64b7589c-0999-484f-c50f-24143a6dfb96",
        "colab": {
          "base_uri": "https://localhost:8080/",
          "height": 426
        }
      },
      "outputs": [
        {
          "output_type": "execute_result",
          "data": {
            "text/html": [
              "\n",
              "  <div id=\"df-7db03fb3-f54a-484d-bd16-3bd357ddedbc\">\n",
              "    <div class=\"colab-df-container\">\n",
              "      <div>\n",
              "<style scoped>\n",
              "    .dataframe tbody tr th:only-of-type {\n",
              "        vertical-align: middle;\n",
              "    }\n",
              "\n",
              "    .dataframe tbody tr th {\n",
              "        vertical-align: top;\n",
              "    }\n",
              "\n",
              "    .dataframe thead th {\n",
              "        text-align: right;\n",
              "    }\n",
              "</style>\n",
              "<table border=\"1\" class=\"dataframe\">\n",
              "  <thead>\n",
              "    <tr style=\"text-align: right;\">\n",
              "      <th></th>\n",
              "      <th>year_month</th>\n",
              "      <th>count</th>\n",
              "    </tr>\n",
              "  </thead>\n",
              "  <tbody>\n",
              "    <tr>\n",
              "      <th>0</th>\n",
              "      <td>1</td>\n",
              "      <td>660357</td>\n",
              "    </tr>\n",
              "    <tr>\n",
              "      <th>1</th>\n",
              "      <td>2</td>\n",
              "      <td>564178</td>\n",
              "    </tr>\n",
              "    <tr>\n",
              "      <th>2</th>\n",
              "      <td>3</td>\n",
              "      <td>639692</td>\n",
              "    </tr>\n",
              "    <tr>\n",
              "      <th>3</th>\n",
              "      <td>4</td>\n",
              "      <td>649755</td>\n",
              "    </tr>\n",
              "    <tr>\n",
              "      <th>4</th>\n",
              "      <td>5</td>\n",
              "      <td>730039</td>\n",
              "    </tr>\n",
              "    <tr>\n",
              "      <th>5</th>\n",
              "      <td>6</td>\n",
              "      <td>711768</td>\n",
              "    </tr>\n",
              "    <tr>\n",
              "      <th>6</th>\n",
              "      <td>7</td>\n",
              "      <td>730949</td>\n",
              "    </tr>\n",
              "    <tr>\n",
              "      <th>7</th>\n",
              "      <td>8</td>\n",
              "      <td>724522</td>\n",
              "    </tr>\n",
              "    <tr>\n",
              "      <th>8</th>\n",
              "      <td>9</td>\n",
              "      <td>679295</td>\n",
              "    </tr>\n",
              "    <tr>\n",
              "      <th>9</th>\n",
              "      <td>10</td>\n",
              "      <td>687450</td>\n",
              "    </tr>\n",
              "    <tr>\n",
              "      <th>10</th>\n",
              "      <td>11</td>\n",
              "      <td>610733</td>\n",
              "    </tr>\n",
              "    <tr>\n",
              "      <th>11</th>\n",
              "      <td>12</td>\n",
              "      <td>552547</td>\n",
              "    </tr>\n",
              "  </tbody>\n",
              "</table>\n",
              "</div>\n",
              "      <button class=\"colab-df-convert\" onclick=\"convertToInteractive('df-7db03fb3-f54a-484d-bd16-3bd357ddedbc')\"\n",
              "              title=\"Convert this dataframe to an interactive table.\"\n",
              "              style=\"display:none;\">\n",
              "        \n",
              "  <svg xmlns=\"http://www.w3.org/2000/svg\" height=\"24px\"viewBox=\"0 0 24 24\"\n",
              "       width=\"24px\">\n",
              "    <path d=\"M0 0h24v24H0V0z\" fill=\"none\"/>\n",
              "    <path d=\"M18.56 5.44l.94 2.06.94-2.06 2.06-.94-2.06-.94-.94-2.06-.94 2.06-2.06.94zm-11 1L8.5 8.5l.94-2.06 2.06-.94-2.06-.94L8.5 2.5l-.94 2.06-2.06.94zm10 10l.94 2.06.94-2.06 2.06-.94-2.06-.94-.94-2.06-.94 2.06-2.06.94z\"/><path d=\"M17.41 7.96l-1.37-1.37c-.4-.4-.92-.59-1.43-.59-.52 0-1.04.2-1.43.59L10.3 9.45l-7.72 7.72c-.78.78-.78 2.05 0 2.83L4 21.41c.39.39.9.59 1.41.59.51 0 1.02-.2 1.41-.59l7.78-7.78 2.81-2.81c.8-.78.8-2.07 0-2.86zM5.41 20L4 18.59l7.72-7.72 1.47 1.35L5.41 20z\"/>\n",
              "  </svg>\n",
              "      </button>\n",
              "      \n",
              "  <style>\n",
              "    .colab-df-container {\n",
              "      display:flex;\n",
              "      flex-wrap:wrap;\n",
              "      gap: 12px;\n",
              "    }\n",
              "\n",
              "    .colab-df-convert {\n",
              "      background-color: #E8F0FE;\n",
              "      border: none;\n",
              "      border-radius: 50%;\n",
              "      cursor: pointer;\n",
              "      display: none;\n",
              "      fill: #1967D2;\n",
              "      height: 32px;\n",
              "      padding: 0 0 0 0;\n",
              "      width: 32px;\n",
              "    }\n",
              "\n",
              "    .colab-df-convert:hover {\n",
              "      background-color: #E2EBFA;\n",
              "      box-shadow: 0px 1px 2px rgba(60, 64, 67, 0.3), 0px 1px 3px 1px rgba(60, 64, 67, 0.15);\n",
              "      fill: #174EA6;\n",
              "    }\n",
              "\n",
              "    [theme=dark] .colab-df-convert {\n",
              "      background-color: #3B4455;\n",
              "      fill: #D2E3FC;\n",
              "    }\n",
              "\n",
              "    [theme=dark] .colab-df-convert:hover {\n",
              "      background-color: #434B5C;\n",
              "      box-shadow: 0px 1px 3px 1px rgba(0, 0, 0, 0.15);\n",
              "      filter: drop-shadow(0px 1px 2px rgba(0, 0, 0, 0.3));\n",
              "      fill: #FFFFFF;\n",
              "    }\n",
              "  </style>\n",
              "\n",
              "      <script>\n",
              "        const buttonEl =\n",
              "          document.querySelector('#df-7db03fb3-f54a-484d-bd16-3bd357ddedbc button.colab-df-convert');\n",
              "        buttonEl.style.display =\n",
              "          google.colab.kernel.accessAllowed ? 'block' : 'none';\n",
              "\n",
              "        async function convertToInteractive(key) {\n",
              "          const element = document.querySelector('#df-7db03fb3-f54a-484d-bd16-3bd357ddedbc');\n",
              "          const dataTable =\n",
              "            await google.colab.kernel.invokeFunction('convertToInteractive',\n",
              "                                                     [key], {});\n",
              "          if (!dataTable) return;\n",
              "\n",
              "          const docLinkHtml = 'Like what you see? Visit the ' +\n",
              "            '<a target=\"_blank\" href=https://colab.research.google.com/notebooks/data_table.ipynb>data table notebook</a>'\n",
              "            + ' to learn more about interactive tables.';\n",
              "          element.innerHTML = '';\n",
              "          dataTable['output_type'] = 'display_data';\n",
              "          await google.colab.output.renderOutput(dataTable, element);\n",
              "          const docLink = document.createElement('div');\n",
              "          docLink.innerHTML = docLinkHtml;\n",
              "          element.appendChild(docLink);\n",
              "        }\n",
              "      </script>\n",
              "    </div>\n",
              "  </div>\n",
              "  "
            ],
            "text/plain": [
              "    year_month   count\n",
              "0            1  660357\n",
              "1            2  564178\n",
              "2            3  639692\n",
              "3            4  649755\n",
              "4            5  730039\n",
              "5            6  711768\n",
              "6            7  730949\n",
              "7            8  724522\n",
              "8            9  679295\n",
              "9           10  687450\n",
              "10          11  610733\n",
              "11          12  552547"
            ]
          },
          "metadata": {},
          "execution_count": 58
        }
      ],
      "source": [
        "year_month_crime_counts_pddf"
      ]
    },
    {
      "cell_type": "markdown",
      "metadata": {
        "id": "fIdsyEb-B110"
      },
      "source": [
        "What happens in MAY through AUGUST?\n",
        "\n",
        " * Salary increase season?\n",
        " * Weather?\n",
        "\n",
        "I think these don't form the Christmas season in Chicago..."
      ]
    },
    {
      "cell_type": "code",
      "execution_count": 59,
      "metadata": {
        "id": "c_GjvI9lB110",
        "outputId": "8dfb6b27-1b2a-4644-aa85-928b049e1a06",
        "colab": {
          "base_uri": "https://localhost:8080/",
          "height": 442
        }
      },
      "outputs": [
        {
          "output_type": "execute_result",
          "data": {
            "text/plain": [
              "<matplotlib.axes._subplots.AxesSubplot at 0x7fc88081d4d0>"
            ]
          },
          "metadata": {},
          "execution_count": 59
        },
        {
          "output_type": "display_data",
          "data": {
            "image/png": "[encoded data removed]",
            "text/plain": [
              "<Figure size 1440x576 with 1 Axes>"
            ]
          },
          "metadata": {}
        }
      ],
      "source": [
        "sns.barplot(data=year_month_crime_counts_pddf, y='count', x='year_month')"
      ]
    },
    {
      "cell_type": "markdown",
      "metadata": {
        "id": "p_XMZP6wB110"
      },
      "source": [
        "## Day of month"
      ]
    },
    {
      "cell_type": "code",
      "execution_count": 60,
      "metadata": {
        "id": "QL9BoMqQB110"
      },
      "outputs": [],
      "source": [
        "month_day_crime_counts = df_dates.groupBy('month_day').count()"
      ]
    },
    {
      "cell_type": "code",
      "execution_count": 61,
      "metadata": {
        "id": "FIw6B9l0B111"
      },
      "outputs": [],
      "source": [
        "month_day_crime_counts_pddf = pd.DataFrame(month_day_crime_counts.orderBy('month_day').rdd.map(lambda e: e.asDict()).collect())"
      ]
    },
    {
      "cell_type": "markdown",
      "metadata": {
        "id": "nyZ3bHm-B111"
      },
      "source": [
        "#### Top 10 worst days of the month"
      ]
    },
    {
      "cell_type": "code",
      "execution_count": 62,
      "metadata": {
        "id": "HbG76B1dB111",
        "outputId": "c19cef0c-8331-424a-a245-9f4478b0f145",
        "colab": {
          "base_uri": "https://localhost:8080/",
          "height": 363
        }
      },
      "outputs": [
        {
          "output_type": "execute_result",
          "data": {
            "text/html": [
              "\n",
              "  <div id=\"df-8dff13ee-9fe7-4605-a701-8ae0ba8146d5\">\n",
              "    <div class=\"colab-df-container\">\n",
              "      <div>\n",
              "<style scoped>\n",
              "    .dataframe tbody tr th:only-of-type {\n",
              "        vertical-align: middle;\n",
              "    }\n",
              "\n",
              "    .dataframe tbody tr th {\n",
              "        vertical-align: top;\n",
              "    }\n",
              "\n",
              "    .dataframe thead th {\n",
              "        text-align: right;\n",
              "    }\n",
              "</style>\n",
              "<table border=\"1\" class=\"dataframe\">\n",
              "  <thead>\n",
              "    <tr style=\"text-align: right;\">\n",
              "      <th></th>\n",
              "      <th>month_day</th>\n",
              "      <th>count</th>\n",
              "    </tr>\n",
              "  </thead>\n",
              "  <tbody>\n",
              "    <tr>\n",
              "      <th>0</th>\n",
              "      <td>1</td>\n",
              "      <td>309994</td>\n",
              "    </tr>\n",
              "    <tr>\n",
              "      <th>14</th>\n",
              "      <td>15</td>\n",
              "      <td>271113</td>\n",
              "    </tr>\n",
              "    <tr>\n",
              "      <th>19</th>\n",
              "      <td>20</td>\n",
              "      <td>264762</td>\n",
              "    </tr>\n",
              "    <tr>\n",
              "      <th>9</th>\n",
              "      <td>10</td>\n",
              "      <td>263976</td>\n",
              "    </tr>\n",
              "    <tr>\n",
              "      <th>13</th>\n",
              "      <td>14</td>\n",
              "      <td>263507</td>\n",
              "    </tr>\n",
              "    <tr>\n",
              "      <th>11</th>\n",
              "      <td>12</td>\n",
              "      <td>263193</td>\n",
              "    </tr>\n",
              "    <tr>\n",
              "      <th>16</th>\n",
              "      <td>17</td>\n",
              "      <td>261727</td>\n",
              "    </tr>\n",
              "    <tr>\n",
              "      <th>8</th>\n",
              "      <td>9</td>\n",
              "      <td>261387</td>\n",
              "    </tr>\n",
              "    <tr>\n",
              "      <th>15</th>\n",
              "      <td>16</td>\n",
              "      <td>261078</td>\n",
              "    </tr>\n",
              "    <tr>\n",
              "      <th>7</th>\n",
              "      <td>8</td>\n",
              "      <td>260775</td>\n",
              "    </tr>\n",
              "  </tbody>\n",
              "</table>\n",
              "</div>\n",
              "      <button class=\"colab-df-convert\" onclick=\"convertToInteractive('df-8dff13ee-9fe7-4605-a701-8ae0ba8146d5')\"\n",
              "              title=\"Convert this dataframe to an interactive table.\"\n",
              "              style=\"display:none;\">\n",
              "        \n",
              "  <svg xmlns=\"http://www.w3.org/2000/svg\" height=\"24px\"viewBox=\"0 0 24 24\"\n",
              "       width=\"24px\">\n",
              "    <path d=\"M0 0h24v24H0V0z\" fill=\"none\"/>\n",
              "    <path d=\"M18.56 5.44l.94 2.06.94-2.06 2.06-.94-2.06-.94-.94-2.06-.94 2.06-2.06.94zm-11 1L8.5 8.5l.94-2.06 2.06-.94-2.06-.94L8.5 2.5l-.94 2.06-2.06.94zm10 10l.94 2.06.94-2.06 2.06-.94-2.06-.94-.94-2.06-.94 2.06-2.06.94z\"/><path d=\"M17.41 7.96l-1.37-1.37c-.4-.4-.92-.59-1.43-.59-.52 0-1.04.2-1.43.59L10.3 9.45l-7.72 7.72c-.78.78-.78 2.05 0 2.83L4 21.41c.39.39.9.59 1.41.59.51 0 1.02-.2 1.41-.59l7.78-7.78 2.81-2.81c.8-.78.8-2.07 0-2.86zM5.41 20L4 18.59l7.72-7.72 1.47 1.35L5.41 20z\"/>\n",
              "  </svg>\n",
              "      </button>\n",
              "      \n",
              "  <style>\n",
              "    .colab-df-container {\n",
              "      display:flex;\n",
              "      flex-wrap:wrap;\n",
              "      gap: 12px;\n",
              "    }\n",
              "\n",
              "    .colab-df-convert {\n",
              "      background-color: #E8F0FE;\n",
              "      border: none;\n",
              "      border-radius: 50%;\n",
              "      cursor: pointer;\n",
              "      display: none;\n",
              "      fill: #1967D2;\n",
              "      height: 32px;\n",
              "      padding: 0 0 0 0;\n",
              "      width: 32px;\n",
              "    }\n",
              "\n",
              "    .colab-df-convert:hover {\n",
              "      background-color: #E2EBFA;\n",
              "      box-shadow: 0px 1px 2px rgba(60, 64, 67, 0.3), 0px 1px 3px 1px rgba(60, 64, 67, 0.15);\n",
              "      fill: #174EA6;\n",
              "    }\n",
              "\n",
              "    [theme=dark] .colab-df-convert {\n",
              "      background-color: #3B4455;\n",
              "      fill: #D2E3FC;\n",
              "    }\n",
              "\n",
              "    [theme=dark] .colab-df-convert:hover {\n",
              "      background-color: #434B5C;\n",
              "      box-shadow: 0px 1px 3px 1px rgba(0, 0, 0, 0.15);\n",
              "      filter: drop-shadow(0px 1px 2px rgba(0, 0, 0, 0.3));\n",
              "      fill: #FFFFFF;\n",
              "    }\n",
              "  </style>\n",
              "\n",
              "      <script>\n",
              "        const buttonEl =\n",
              "          document.querySelector('#df-8dff13ee-9fe7-4605-a701-8ae0ba8146d5 button.colab-df-convert');\n",
              "        buttonEl.style.display =\n",
              "          google.colab.kernel.accessAllowed ? 'block' : 'none';\n",
              "\n",
              "        async function convertToInteractive(key) {\n",
              "          const element = document.querySelector('#df-8dff13ee-9fe7-4605-a701-8ae0ba8146d5');\n",
              "          const dataTable =\n",
              "            await google.colab.kernel.invokeFunction('convertToInteractive',\n",
              "                                                     [key], {});\n",
              "          if (!dataTable) return;\n",
              "\n",
              "          const docLinkHtml = 'Like what you see? Visit the ' +\n",
              "            '<a target=\"_blank\" href=https://colab.research.google.com/notebooks/data_table.ipynb>data table notebook</a>'\n",
              "            + ' to learn more about interactive tables.';\n",
              "          element.innerHTML = '';\n",
              "          dataTable['output_type'] = 'display_data';\n",
              "          await google.colab.output.renderOutput(dataTable, element);\n",
              "          const docLink = document.createElement('div');\n",
              "          docLink.innerHTML = docLinkHtml;\n",
              "          element.appendChild(docLink);\n",
              "        }\n",
              "      </script>\n",
              "    </div>\n",
              "  </div>\n",
              "  "
            ],
            "text/plain": [
              "    month_day   count\n",
              "0           1  309994\n",
              "14         15  271113\n",
              "19         20  264762\n",
              "9          10  263976\n",
              "13         14  263507\n",
              "11         12  263193\n",
              "16         17  261727\n",
              "8           9  261387\n",
              "15         16  261078\n",
              "7           8  260775"
            ]
          },
          "metadata": {},
          "execution_count": 62
        }
      ],
      "source": [
        "month_day_crime_counts_pddf.sort_values(by='count', ascending=False).head(10)"
      ]
    },
    {
      "cell_type": "code",
      "execution_count": 63,
      "metadata": {
        "id": "4RVgcC5rB111"
      },
      "outputs": [],
      "source": [
        "month_day_crime_counts_pddf = month_day_crime_counts_pddf.sort_values(by='month_day', ascending=True)"
      ]
    },
    {
      "cell_type": "code",
      "execution_count": 65,
      "metadata": {
        "id": "JF3Xa5DsB111",
        "outputId": "21767dc9-9c63-45fc-adf9-fea8a70adc76",
        "colab": {
          "base_uri": "https://localhost:8080/",
          "height": 433
        }
      },
      "outputs": [
        {
          "output_type": "execute_result",
          "data": {
            "text/plain": [
              "<matplotlib.legend.Legend at 0x7fc882166c10>"
            ]
          },
          "metadata": {},
          "execution_count": 65
        },
        {
          "output_type": "display_data",
          "data": {
            "image/png": "[encoded data removed]",
            "text/plain": [
              "<Figure size 1440x576 with 1 Axes>"
            ]
          },
          "metadata": {}
        }
      ],
      "source": [
        "fg, ax = plt.subplots()\n",
        "\n",
        "ax.plot(month_day_crime_counts_pddf['month_day'], month_day_crime_counts_pddf['count'], label='Crimes over the month')\n",
        "\n",
        "ax.grid(b=True, which='both')\n",
        "ax.legend()"
      ]
    },
    {
      "cell_type": "markdown",
      "metadata": {
        "id": "MeQ9sdiCB111"
      },
      "source": [
        "### Community areas?\n",
        "\n",
        "Chicago has 77 community areas. How do they appear next to one another in a count plot?"
      ]
    },
    {
      "cell_type": "code",
      "execution_count": 66,
      "metadata": {
        "id": "GiYyZbcRB112"
      },
      "outputs": [],
      "source": [
        "df_dates_community_areas = df_dates.na.drop(subset=['community_area']).groupBy('community_area').count()"
      ]
    },
    {
      "cell_type": "markdown",
      "metadata": {
        "id": "OoKpRL3gB112"
      },
      "source": [
        "What are the to 10 areas with recorded crime?"
      ]
    },
    {
      "cell_type": "code",
      "execution_count": 67,
      "metadata": {
        "scrolled": true,
        "id": "WTmIMnDYB112",
        "outputId": "7c75b85f-b75f-4df6-8ca4-ff0b09788c0b",
        "colab": {
          "base_uri": "https://localhost:8080/"
        }
      },
      "outputs": [
        {
          "output_type": "stream",
          "name": "stdout",
          "text": [
            "+--------------+------+\n",
            "|community_area| count|\n",
            "+--------------+------+\n",
            "|          25.0|467137|\n",
            "|          43.0|237381|\n",
            "|           8.0|235562|\n",
            "|          23.0|229024|\n",
            "|          67.0|216991|\n",
            "|          24.0|213915|\n",
            "|          71.0|207183|\n",
            "|          28.0|206017|\n",
            "|          29.0|202887|\n",
            "|          68.0|197659|\n",
            "+--------------+------+\n",
            "only showing top 10 rows\n",
            "\n"
          ]
        }
      ],
      "source": [
        "df_dates_community_areas.orderBy('count', ascending=False).show(10)"
      ]
    },
    {
      "cell_type": "code",
      "execution_count": 68,
      "metadata": {
        "id": "Li_Ok5JuB112"
      },
      "outputs": [],
      "source": [
        "## Is it possible to see how the top crime types occur in the top crime-affected areas?\n",
        "top_crime_types = df_dates.select('primary_type').groupBy('primary_type').count().rdd.map(lambda row: row.asDict()).takeOrdered(10, key=lambda l: 1/l['count'])\n",
        "top_busy_areas =  df_dates_community_areas.rdd.map(lambda row: row.asDict()).takeOrdered(10, key=lambda l: 1/l['count'])"
      ]
    },
    {
      "cell_type": "code",
      "execution_count": 69,
      "metadata": {
        "id": "jVfWfiO9B112"
      },
      "outputs": [],
      "source": [
        "top_crime_types_lst = [dc['primary_type'] for dc in top_crime_types]\n",
        "top_busy_areas_lst = [dc['community_area'] for dc in top_busy_areas]"
      ]
    },
    {
      "cell_type": "code",
      "execution_count": 70,
      "metadata": {
        "id": "MFANfPp3B113",
        "outputId": "a6b8a2d8-a0c3-49d2-c850-2e42615f9e98",
        "colab": {
          "base_uri": "https://localhost:8080/"
        }
      },
      "outputs": [
        {
          "output_type": "execute_result",
          "data": {
            "text/plain": [
              "['THEFT',\n",
              " 'BATTERY',\n",
              " 'CRIMINAL DAMAGE',\n",
              " 'NARCOTICS',\n",
              " 'OTHER OFFENSE',\n",
              " 'ASSAULT',\n",
              " 'BURGLARY',\n",
              " 'MOTOR VEHICLE THEFT',\n",
              " 'ROBBERY',\n",
              " 'DECEPTIVE PRACTICE']"
            ]
          },
          "metadata": {},
          "execution_count": 70
        }
      ],
      "source": [
        "top_crime_types_lst"
      ]
    },
    {
      "cell_type": "code",
      "execution_count": 71,
      "metadata": {
        "id": "ESmFS3ArB113",
        "outputId": "c5d56882-8145-4007-dbda-263a9b638d4d",
        "colab": {
          "base_uri": "https://localhost:8080/"
        }
      },
      "outputs": [
        {
          "output_type": "execute_result",
          "data": {
            "text/plain": [
              "['25.0', '43.0', '8.0', '23.0', '67.0', '24.0', '71.0', '28.0', '29.0', '68.0']"
            ]
          },
          "metadata": {},
          "execution_count": 71
        }
      ],
      "source": [
        "top_busy_areas_lst"
      ]
    },
    {
      "cell_type": "markdown",
      "metadata": {
        "id": "cI5ET7ZEB113"
      },
      "source": [
        "Find crimes of the top 10 types, that were perpetrated in the 10 10 busiest cities..."
      ]
    },
    {
      "cell_type": "code",
      "execution_count": 72,
      "metadata": {
        "id": "scAvDF3kB113",
        "outputId": "95563d46-4e91-4da3-e8a4-1cc59aebb434",
        "colab": {
          "base_uri": "https://localhost:8080/"
        }
      },
      "outputs": [
        {
          "output_type": "stream",
          "name": "stdout",
          "text": [
            "instr('25.0 43.0 8.0 23.0 67.0 24.0 71.0 28.0 29.0 68.0', community_area) > 0\n"
          ]
        }
      ],
      "source": [
        "q1 = \"instr('\" + ' '.join(top_busy_areas_lst) + \"', community_area) > 0\"\n",
        "q2 = \"instr('\" + ' '.join(top_crime_types_lst) + \"', primary_type) > 0\"\n",
        "print(q1)"
      ]
    },
    {
      "cell_type": "code",
      "execution_count": 73,
      "metadata": {
        "id": "QugERa7zB113"
      },
      "outputs": [],
      "source": [
        "## Construct a data frame filtered on these top community areas and top crime types:\n",
        "df_dates_tops = df_dates.filter(q1).filter(q2)"
      ]
    },
    {
      "cell_type": "code",
      "execution_count": 74,
      "metadata": {
        "id": "GhbiaOi2B114",
        "outputId": "7f9f2305-7e13-4f64-8165-32891fa7310a",
        "colab": {
          "base_uri": "https://localhost:8080/"
        }
      },
      "outputs": [
        {
          "output_type": "execute_result",
          "data": {
            "text/plain": [
              "2608136"
            ]
          },
          "metadata": {},
          "execution_count": 74
        }
      ],
      "source": [
        "df_dates_tops.count()"
      ]
    },
    {
      "cell_type": "code",
      "execution_count": 75,
      "metadata": {
        "id": "N3sJacsVB114"
      },
      "outputs": [],
      "source": [
        "tops_of_tops = df_dates_tops.groupBy(['primary_type', 'community_area']).count().orderBy(['primary_type', 'count', 'community_area'], ascending=[True, False, True]).cache()"
      ]
    },
    {
      "cell_type": "code",
      "execution_count": 76,
      "metadata": {
        "id": "meCU-utBB114",
        "outputId": "4ac59221-ee60-48bb-bfdf-803e1caaae5c",
        "colab": {
          "base_uri": "https://localhost:8080/"
        }
      },
      "outputs": [
        {
          "output_type": "stream",
          "name": "stdout",
          "text": [
            "+------------+--------------+-----+\n",
            "|primary_type|community_area|count|\n",
            "+------------+--------------+-----+\n",
            "|     ASSAULT|          25.0|27112|\n",
            "|     ASSAULT|          43.0|16358|\n",
            "|     ASSAULT|          67.0|15576|\n",
            "|     ASSAULT|          68.0|15064|\n",
            "|     ASSAULT|          71.0|14342|\n",
            "|     ASSAULT|          23.0|14081|\n",
            "|     ASSAULT|          29.0|12605|\n",
            "|     ASSAULT|          28.0|11096|\n",
            "|     ASSAULT|          24.0|10119|\n",
            "|     ASSAULT|           8.0| 8385|\n",
            "|     ASSAULT|           1.0| 6459|\n",
            "|     ASSAULT|           3.0| 6335|\n",
            "|     ASSAULT|           7.0| 2871|\n",
            "|     ASSAULT|           4.0| 2427|\n",
            "|     ASSAULT|           5.0| 1726|\n",
            "|     ASSAULT|           9.0|  362|\n",
            "|     BATTERY|          25.0|91430|\n",
            "|     BATTERY|          43.0|51026|\n",
            "|     BATTERY|          67.0|50855|\n",
            "|     BATTERY|          68.0|49025|\n",
            "+------------+--------------+-----+\n",
            "only showing top 20 rows\n",
            "\n"
          ]
        }
      ],
      "source": [
        "tops_of_tops.show(20)"
      ]
    },
    {
      "cell_type": "markdown",
      "metadata": {
        "id": "Zf9P0H42B114"
      },
      "source": [
        "#### Community area names\n",
        "\n",
        "Let's link names of these community areas. These float numbers are having a hard time making any sense...\n",
        "\n",
        "Sourced from Chicago Tribune at http://www.chicagotribune.com/chi-community-areas-htmlstory.html\n"
      ]
    },
    {
      "cell_type": "code",
      "execution_count": 77,
      "metadata": {
        "id": "aPgTg0R1B115"
      },
      "outputs": [],
      "source": [
        "area_names = \"\"\"\n",
        "01\tRogers Park\t\n",
        "40\tWashington Park\n",
        "02\tWest Ridge\t\n",
        "41\tHyde Park\n",
        "03\tUptown\t\n",
        "42\tWoodlawn\n",
        "04\tLincoln Square\t\n",
        "43\tSouth Shore\n",
        "05\tNorth Center\t\n",
        "44\tChatham\n",
        "06\tLakeview\t\n",
        "45\tAvalon Park\n",
        "07\tLincoln Park\t\n",
        "46\tSouth Chicago\n",
        "08\tNear North Side\t\n",
        "47\tBurnside\n",
        "09\tEdison Park\t\n",
        "48\tCalumet Heights\n",
        "10\tNorwood Park\t\n",
        "49\tRoseland\n",
        "11\tJefferson Park\t\n",
        "50\tPullman\n",
        "12\tForest Glen\t\n",
        "51\tSouth Deering\n",
        "13\tNorth Park\t\n",
        "52\tEast Side\n",
        "14\tAlbany Park\t\n",
        "53\tWest Pullman\n",
        "15\tPortage Park\t\n",
        "54\tRiverdale\n",
        "16\tIrving Park\t\n",
        "55\tHegewisch\n",
        "17\tDunning\t\n",
        "56\tGarfield Ridge\n",
        "18\tMontclare\t\n",
        "57\tArcher Heights\n",
        "19\tBelmont Cragin\t\n",
        "58\tBrighton Park\n",
        "20\tHermosa\t\n",
        "59\tMcKinley Park\n",
        "21\tAvondale\t\n",
        "60\tBridgeport\n",
        "22\tLogan Square\t\n",
        "61\tNew City\n",
        "23\tHumboldt Park\t\n",
        "62\tWest Elsdon\n",
        "24\tWest Town\t\n",
        "63\tGage Park\n",
        "25\tAustin\t\n",
        "64\tClearing\n",
        "26\tWest Garfield Park \t\n",
        "65\tWest Lawn\n",
        "27\tEast Garfield Park\t\n",
        "66\tChicago Lawn\n",
        "28\tNear West Side\t\n",
        "67\tWest Englewood\n",
        "29\tNorth Lawndale\t\n",
        "68\tEnglewood\n",
        "30\tSouth Lawndale\t\n",
        "69\tGreater Grand Crossing\n",
        "31\tLower West Side\t\n",
        "70\tAshburn\n",
        "32\tLoop\t\n",
        "71\tAuburn Gresham\t\n",
        "33\tNear South Side\t\n",
        "72\tBeverly\n",
        "34\tArmour Square\t\n",
        "73\tWashington Heights\n",
        "35\tDouglas\t\n",
        "74\tMount Greenwood\n",
        "36\tOakland\t\n",
        "75\tMorgan Park\n",
        "37\tFuller Park\t\n",
        "76\tO'Hare\n",
        "38\tGrand Boulevard\t\n",
        "77\tEdgewater\n",
        "39\tKenwood\t\n",
        "\"\"\""
      ]
    },
    {
      "cell_type": "code",
      "execution_count": 78,
      "metadata": {
        "id": "6z4aiMeLB115"
      },
      "outputs": [],
      "source": [
        "code_pairs = [[float(p[0]), p[1]] for p in [pair.strip().split('\\t') for pair in area_names.strip().split('\\n')]]"
      ]
    },
    {
      "cell_type": "code",
      "execution_count": 79,
      "metadata": {
        "id": "spQhVUNzB115",
        "outputId": "6d202925-cedd-4931-f57d-c7f32aba3c35",
        "colab": {
          "base_uri": "https://localhost:8080/"
        }
      },
      "outputs": [
        {
          "output_type": "execute_result",
          "data": {
            "text/plain": [
              "[[1.0, 'Rogers Park'],\n",
              " [40.0, 'Washington Park'],\n",
              " [2.0, 'West Ridge'],\n",
              " [41.0, 'Hyde Park'],\n",
              " [3.0, 'Uptown']]"
            ]
          },
          "metadata": {},
          "execution_count": 79
        }
      ],
      "source": [
        "code_pairs[:5]"
      ]
    },
    {
      "cell_type": "markdown",
      "metadata": {
        "id": "ser5IQwMB115"
      },
      "source": [
        "#### A view of crime count per community area"
      ]
    },
    {
      "cell_type": "code",
      "execution_count": 80,
      "metadata": {
        "id": "Nim4cZsaB115"
      },
      "outputs": [],
      "source": [
        "community_area_counts = pd.DataFrame(df_dates_community_areas.rdd.map(lambda row: row.asDict()).collect())"
      ]
    },
    {
      "cell_type": "code",
      "execution_count": 81,
      "metadata": {
        "id": "Ca_tu8RtB116"
      },
      "outputs": [],
      "source": [
        "# Create a dictionary of area code to names\n",
        "area_name_dic = {float(k[0]):k[1] for k in code_pairs}"
      ]
    },
    {
      "cell_type": "code",
      "execution_count": 82,
      "metadata": {
        "id": "b-740WEtB116"
      },
      "outputs": [],
      "source": [
        "community_area_counts['community_area_name'] = community_area_counts['community_area'].apply(lambda area: area_name_dic.get(float(area),  'unknown_%s'%area))"
      ]
    },
    {
      "cell_type": "code",
      "execution_count": 83,
      "metadata": {
        "id": "xDMwFrSKB116",
        "outputId": "a933d9c5-b9a6-4cec-8049-4483a142fb11",
        "colab": {
          "base_uri": "https://localhost:8080/",
          "height": 206
        }
      },
      "outputs": [
        {
          "output_type": "execute_result",
          "data": {
            "text/html": [
              "\n",
              "  <div id=\"df-24b1c6e7-296e-4081-b1f2-7538af977986\">\n",
              "    <div class=\"colab-df-container\">\n",
              "      <div>\n",
              "<style scoped>\n",
              "    .dataframe tbody tr th:only-of-type {\n",
              "        vertical-align: middle;\n",
              "    }\n",
              "\n",
              "    .dataframe tbody tr th {\n",
              "        vertical-align: top;\n",
              "    }\n",
              "\n",
              "    .dataframe thead th {\n",
              "        text-align: right;\n",
              "    }\n",
              "</style>\n",
              "<table border=\"1\" class=\"dataframe\">\n",
              "  <thead>\n",
              "    <tr style=\"text-align: right;\">\n",
              "      <th></th>\n",
              "      <th>community_area</th>\n",
              "      <th>count</th>\n",
              "      <th>community_area_name</th>\n",
              "    </tr>\n",
              "  </thead>\n",
              "  <tbody>\n",
              "    <tr>\n",
              "      <th>22</th>\n",
              "      <td>0.0</td>\n",
              "      <td>114</td>\n",
              "      <td>unknown_0.0</td>\n",
              "    </tr>\n",
              "    <tr>\n",
              "      <th>24</th>\n",
              "      <td>9.0</td>\n",
              "      <td>6983</td>\n",
              "      <td>Edison Park</td>\n",
              "    </tr>\n",
              "    <tr>\n",
              "      <th>11</th>\n",
              "      <td>47.0</td>\n",
              "      <td>10957</td>\n",
              "      <td>Burnside</td>\n",
              "    </tr>\n",
              "    <tr>\n",
              "      <th>25</th>\n",
              "      <td>12.0</td>\n",
              "      <td>12969</td>\n",
              "      <td>Forest Glen</td>\n",
              "    </tr>\n",
              "    <tr>\n",
              "      <th>53</th>\n",
              "      <td>55.0</td>\n",
              "      <td>15554</td>\n",
              "      <td>Hegewisch</td>\n",
              "    </tr>\n",
              "  </tbody>\n",
              "</table>\n",
              "</div>\n",
              "      <button class=\"colab-df-convert\" onclick=\"convertToInteractive('df-24b1c6e7-296e-4081-b1f2-7538af977986')\"\n",
              "              title=\"Convert this dataframe to an interactive table.\"\n",
              "              style=\"display:none;\">\n",
              "        \n",
              "  <svg xmlns=\"http://www.w3.org/2000/svg\" height=\"24px\"viewBox=\"0 0 24 24\"\n",
              "       width=\"24px\">\n",
              "    <path d=\"M0 0h24v24H0V0z\" fill=\"none\"/>\n",
              "    <path d=\"M18.56 5.44l.94 2.06.94-2.06 2.06-.94-2.06-.94-.94-2.06-.94 2.06-2.06.94zm-11 1L8.5 8.5l.94-2.06 2.06-.94-2.06-.94L8.5 2.5l-.94 2.06-2.06.94zm10 10l.94 2.06.94-2.06 2.06-.94-2.06-.94-.94-2.06-.94 2.06-2.06.94z\"/><path d=\"M17.41 7.96l-1.37-1.37c-.4-.4-.92-.59-1.43-.59-.52 0-1.04.2-1.43.59L10.3 9.45l-7.72 7.72c-.78.78-.78 2.05 0 2.83L4 21.41c.39.39.9.59 1.41.59.51 0 1.02-.2 1.41-.59l7.78-7.78 2.81-2.81c.8-.78.8-2.07 0-2.86zM5.41 20L4 18.59l7.72-7.72 1.47 1.35L5.41 20z\"/>\n",
              "  </svg>\n",
              "      </button>\n",
              "      \n",
              "  <style>\n",
              "    .colab-df-container {\n",
              "      display:flex;\n",
              "      flex-wrap:wrap;\n",
              "      gap: 12px;\n",
              "    }\n",
              "\n",
              "    .colab-df-convert {\n",
              "      background-color: #E8F0FE;\n",
              "      border: none;\n",
              "      border-radius: 50%;\n",
              "      cursor: pointer;\n",
              "      display: none;\n",
              "      fill: #1967D2;\n",
              "      height: 32px;\n",
              "      padding: 0 0 0 0;\n",
              "      width: 32px;\n",
              "    }\n",
              "\n",
              "    .colab-df-convert:hover {\n",
              "      background-color: #E2EBFA;\n",
              "      box-shadow: 0px 1px 2px rgba(60, 64, 67, 0.3), 0px 1px 3px 1px rgba(60, 64, 67, 0.15);\n",
              "      fill: #174EA6;\n",
              "    }\n",
              "\n",
              "    [theme=dark] .colab-df-convert {\n",
              "      background-color: #3B4455;\n",
              "      fill: #D2E3FC;\n",
              "    }\n",
              "\n",
              "    [theme=dark] .colab-df-convert:hover {\n",
              "      background-color: #434B5C;\n",
              "      box-shadow: 0px 1px 3px 1px rgba(0, 0, 0, 0.15);\n",
              "      filter: drop-shadow(0px 1px 2px rgba(0, 0, 0, 0.3));\n",
              "      fill: #FFFFFF;\n",
              "    }\n",
              "  </style>\n",
              "\n",
              "      <script>\n",
              "        const buttonEl =\n",
              "          document.querySelector('#df-24b1c6e7-296e-4081-b1f2-7538af977986 button.colab-df-convert');\n",
              "        buttonEl.style.display =\n",
              "          google.colab.kernel.accessAllowed ? 'block' : 'none';\n",
              "\n",
              "        async function convertToInteractive(key) {\n",
              "          const element = document.querySelector('#df-24b1c6e7-296e-4081-b1f2-7538af977986');\n",
              "          const dataTable =\n",
              "            await google.colab.kernel.invokeFunction('convertToInteractive',\n",
              "                                                     [key], {});\n",
              "          if (!dataTable) return;\n",
              "\n",
              "          const docLinkHtml = 'Like what you see? Visit the ' +\n",
              "            '<a target=\"_blank\" href=https://colab.research.google.com/notebooks/data_table.ipynb>data table notebook</a>'\n",
              "            + ' to learn more about interactive tables.';\n",
              "          element.innerHTML = '';\n",
              "          dataTable['output_type'] = 'display_data';\n",
              "          await google.colab.output.renderOutput(dataTable, element);\n",
              "          const docLink = document.createElement('div');\n",
              "          docLink.innerHTML = docLinkHtml;\n",
              "          element.appendChild(docLink);\n",
              "        }\n",
              "      </script>\n",
              "    </div>\n",
              "  </div>\n",
              "  "
            ],
            "text/plain": [
              "   community_area  count community_area_name\n",
              "22            0.0    114         unknown_0.0\n",
              "24            9.0   6983         Edison Park\n",
              "11           47.0  10957            Burnside\n",
              "25           12.0  12969         Forest Glen\n",
              "53           55.0  15554           Hegewisch"
            ]
          },
          "metadata": {},
          "execution_count": 83
        }
      ],
      "source": [
        "community_area_counts = community_area_counts.sort_values(by='count')\n",
        "community_area_counts.head(5)"
      ]
    },
    {
      "cell_type": "markdown",
      "metadata": {
        "id": "gIVRe2DvB116"
      },
      "source": [
        "**What is happening in Austin?**"
      ]
    },
    {
      "cell_type": "code",
      "source": [
        "plt.rcParams[\"figure.figsize\"] = [32, 32]\n",
        "\n",
        "sns.set(style=\"whitegrid\") \n",
        "sns.set_color_codes(\"pastel\")\n",
        "\n",
        "sns.despine(left=True, bottom=True)\n",
        "area_chart = sns.barplot(x='count', y='community_area_name', data=community_area_counts) \n",
        "area_chart.set(ylabel=\"Community Area Name\", xlabel=\"Overall Crimes Record Count\")"
      ],
      "metadata": {
        "colab": {
          "base_uri": "https://localhost:8080/",
          "height": 973
        },
        "id": "A67CcFiyOXJc",
        "outputId": "a4ddc995-fe65-4428-be31-5b3fbc8247f8"
      },
      "execution_count": 86,
      "outputs": [
        {
          "output_type": "execute_result",
          "data": {
            "text/plain": [
              "[Text(0, 0.5, 'Community Area Name'),\n",
              " Text(0.5, 0, 'Overall Crimes Record Count')]"
            ]
          },
          "metadata": {},
          "execution_count": 86
        },
        {
          "output_type": "display_data",
          "data": {
            "image/png": "[encoded data removed]",
            "text/plain": [
              "<Figure size 2304x2304 with 1 Axes>"
            ]
          },
          "metadata": {}
        }
      ]
    },
    {
      "cell_type": "markdown",
      "metadata": {
        "id": "k-VtGSMxB117"
      },
      "source": [
        "** *Join these community areas on the main data frame* **"
      ]
    },
    {
      "cell_type": "code",
      "execution_count": 87,
      "metadata": {
        "id": "msy66qy5B117"
      },
      "outputs": [],
      "source": [
        "code_pairs_df = spark.createDataFrame(code_pairs, ['community_area', 'area_name'])"
      ]
    },
    {
      "cell_type": "code",
      "execution_count": 88,
      "metadata": {
        "id": "GfDl0DTTB117"
      },
      "outputs": [],
      "source": [
        "named_tops_of_tops = code_pairs_df.join(tops_of_tops, on='community_area', how='right')"
      ]
    },
    {
      "cell_type": "code",
      "execution_count": 89,
      "metadata": {
        "scrolled": true,
        "id": "2IllTtJCB117",
        "outputId": "f6d96944-3de5-4ed6-d212-984891b55eef",
        "colab": {
          "base_uri": "https://localhost:8080/"
        }
      },
      "outputs": [
        {
          "output_type": "stream",
          "name": "stdout",
          "text": [
            "+--------------+---------------+------------+-----+\n",
            "|community_area|      area_name|primary_type|count|\n",
            "+--------------+---------------+------------+-----+\n",
            "|          25.0|         Austin|     ASSAULT|27112|\n",
            "|          43.0|    South Shore|     ASSAULT|16358|\n",
            "|          67.0| West Englewood|     ASSAULT|15576|\n",
            "|          68.0|      Englewood|     ASSAULT|15064|\n",
            "|          71.0| Auburn Gresham|     ASSAULT|14342|\n",
            "|          23.0|  Humboldt Park|     ASSAULT|14081|\n",
            "|          29.0| North Lawndale|     ASSAULT|12605|\n",
            "|          28.0| Near West Side|     ASSAULT|11096|\n",
            "|          24.0|      West Town|     ASSAULT|10119|\n",
            "|           8.0|Near North Side|     ASSAULT| 8385|\n",
            "+--------------+---------------+------------+-----+\n",
            "only showing top 10 rows\n",
            "\n"
          ]
        }
      ],
      "source": [
        "named_tops_of_tops.show(10)"
      ]
    },
    {
      "cell_type": "code",
      "execution_count": 90,
      "metadata": {
        "id": "8cvFMx_lB117"
      },
      "outputs": [],
      "source": [
        "tops_of_tops_dff = pd.DataFrame(named_tops_of_tops.rdd.map(lambda l: l.asDict()).collect() )"
      ]
    },
    {
      "cell_type": "code",
      "execution_count": 91,
      "metadata": {
        "scrolled": false,
        "id": "FNuMzeIcB117",
        "outputId": "0b9fd3fc-5b22-4f70-fb91-e42eeb87e66d",
        "colab": {
          "base_uri": "https://localhost:8080/",
          "height": 288
        }
      },
      "outputs": [
        {
          "output_type": "execute_result",
          "data": {
            "text/plain": [
              "<matplotlib.axes._subplots.AxesSubplot at 0x7fc88021b710>"
            ]
          },
          "metadata": {},
          "execution_count": 91
        },
        {
          "output_type": "display_data",
          "data": {
            "image/png": "[encoded data removed]",
            "text/plain": [
              "<Figure size 4608x1152 with 1 Axes>"
            ]
          },
          "metadata": {}
        }
      ],
      "source": [
        "plt.rcParams[\"figure.figsize\"] = [64, 16]\n",
        "sns.barplot(data=tops_of_tops_dff, x='area_name', y='count', hue='primary_type', palette='pastel')"
      ]
    },
    {
      "cell_type": "markdown",
      "metadata": {
        "id": "uB_Qsm4qB118"
      },
      "source": [
        "---\n",
        "\n",
        "\n",
        "# Can we try to predict the primary type of crime?\n",
        "\n",
        "Now on to another objective of this exercise. We're going to try to predict what kind of crime is going to occur given the selected features.\n",
        "\n",
        "Speaking about features, here's the list of predictors that I chose to go for:\n",
        "\n",
        "### Excluded variables:\n",
        "\n",
        " * 'id' - Random information that isn't a predictor of crime type\n",
        " * 'case_number' - Random information that isn't a predictor of crime type\n",
        " * 'date' - Removed because it's been re-featurized in other features generated above\n",
        " * 'block' - Excluded as this may simply mean noise\n",
        " * 'iucr' - Excluded as correlated with crime type. No point.\n",
        " * 'x_coordinate' - Not included\n",
        " * 'y_coordinate' - Not included\n",
        " * 'year' - Not included (already otherwise featurized)\n",
        " * 'updated_on' - not included\n",
        " * 'latitude' - not included\n",
        " * 'longitude' - not included\n",
        " * 'location' - not included\n",
        " * 'date_time' - Taken into account in other time-related features\n",
        " * 'description' - Excluded. I want to see this as associated with the response (primary type)\n",
        "\n",
        "\n",
        "### Selected predictors:\n",
        "\n",
        " * 'location_description'\n",
        " * 'arrest'\n",
        " * 'domestic'\n",
        " * 'beat'\n",
        " * 'district'\n",
        " * 'ward'\n",
        " * 'community_area'\n",
        " * 'fbi_code'\n",
        " * 'hour'\n",
        " * 'week_day'\n",
        " * 'year_month'\n",
        " * 'month_day'\n",
        " * 'date_number'"
      ]
    },
    {
      "cell_type": "code",
      "execution_count": 92,
      "metadata": {
        "id": "k7PAhZerB118"
      },
      "outputs": [],
      "source": [
        "selected_features = [\n",
        " 'location_description',\n",
        " 'arrest',\n",
        " 'domestic',\n",
        " 'beat',\n",
        " 'district',\n",
        " 'ward',\n",
        " 'community_area',\n",
        " 'fbi_code',\n",
        " 'hour',\n",
        " 'week_day',\n",
        " 'year_month',\n",
        " 'month_day',\n",
        " 'date_number']"
      ]
    },
    {
      "cell_type": "code",
      "execution_count": 93,
      "metadata": {
        "id": "aoeTVTzFB118",
        "outputId": "45ae93b0-a4f6-447f-a7b5-c6f7636e67de",
        "colab": {
          "base_uri": "https://localhost:8080/"
        }
      },
      "outputs": [
        {
          "output_type": "stream",
          "name": "stdout",
          "text": [
            "root\n",
            " |-- location_description: string (nullable = true)\n",
            " |-- arrest: string (nullable = true)\n",
            " |-- domestic: string (nullable = true)\n",
            " |-- beat: string (nullable = true)\n",
            " |-- district: string (nullable = true)\n",
            " |-- ward: string (nullable = true)\n",
            " |-- community_area: string (nullable = true)\n",
            " |-- fbi_code: string (nullable = true)\n",
            " |-- hour: integer (nullable = true)\n",
            " |-- week_day: integer (nullable = true)\n",
            " |-- year_month: integer (nullable = true)\n",
            " |-- month_day: integer (nullable = true)\n",
            " |-- date_number: integer (nullable = true)\n",
            "\n"
          ]
        }
      ],
      "source": [
        "#Let's see the schema of these selected features:\n",
        "features_df = df_dates.select(selected_features)\n",
        "features_df.printSchema()"
      ]
    },
    {
      "cell_type": "markdown",
      "metadata": {
        "id": "Pe0w0dj5B118"
      },
      "source": [
        "Let's try to see all level counts in all the selected features..."
      ]
    },
    {
      "cell_type": "code",
      "execution_count": 94,
      "metadata": {
        "id": "rAaaC4YIB118",
        "outputId": "a39b105a-b93e-4ea3-bfdc-e931212306cb",
        "colab": {
          "base_uri": "https://localhost:8080/"
        }
      },
      "outputs": [
        {
          "output_type": "stream",
          "name": "stdout",
          "text": [
            "Analysing location_description\n",
            "Analysing arrest\n",
            "Analysing domestic\n",
            "Analysing beat\n",
            "Analysing district\n",
            "Analysing ward\n",
            "Analysing community_area\n",
            "Analysing fbi_code\n",
            "Analysing hour\n",
            "Analysing week_day\n",
            "Analysing year_month\n",
            "Analysing month_day\n",
            "Analysing date_number\n"
          ]
        }
      ],
      "source": [
        "feature_level_count_dic = []\n",
        "\n",
        "for feature in selected_features:\n",
        "    print('Analysing %s' % feature)\n",
        "    levels_list_df = features_df.select(feature).distinct()\n",
        "    feature_level_count_dic.append({'feature': feature, 'level_count': levels_list_df.count()})\n"
      ]
    },
    {
      "cell_type": "code",
      "execution_count": 95,
      "metadata": {
        "id": "7rSiIDjeB119",
        "outputId": "7c61f44a-33a4-4959-de55-b35c5b52cfe6",
        "colab": {
          "base_uri": "https://localhost:8080/",
          "height": 457
        }
      },
      "outputs": [
        {
          "output_type": "execute_result",
          "data": {
            "text/html": [
              "\n",
              "  <div id=\"df-72d2a6c4-d0bf-472a-987f-776a4513a64c\">\n",
              "    <div class=\"colab-df-container\">\n",
              "      <div>\n",
              "<style scoped>\n",
              "    .dataframe tbody tr th:only-of-type {\n",
              "        vertical-align: middle;\n",
              "    }\n",
              "\n",
              "    .dataframe tbody tr th {\n",
              "        vertical-align: top;\n",
              "    }\n",
              "\n",
              "    .dataframe thead th {\n",
              "        text-align: right;\n",
              "    }\n",
              "</style>\n",
              "<table border=\"1\" class=\"dataframe\">\n",
              "  <thead>\n",
              "    <tr style=\"text-align: right;\">\n",
              "      <th></th>\n",
              "      <th>feature</th>\n",
              "      <th>level_count</th>\n",
              "    </tr>\n",
              "  </thead>\n",
              "  <tbody>\n",
              "    <tr>\n",
              "      <th>12</th>\n",
              "      <td>date_number</td>\n",
              "      <td>5862</td>\n",
              "    </tr>\n",
              "    <tr>\n",
              "      <th>3</th>\n",
              "      <td>beat</td>\n",
              "      <td>304</td>\n",
              "    </tr>\n",
              "    <tr>\n",
              "      <th>0</th>\n",
              "      <td>location_description</td>\n",
              "      <td>173</td>\n",
              "    </tr>\n",
              "    <tr>\n",
              "      <th>6</th>\n",
              "      <td>community_area</td>\n",
              "      <td>79</td>\n",
              "    </tr>\n",
              "    <tr>\n",
              "      <th>5</th>\n",
              "      <td>ward</td>\n",
              "      <td>51</td>\n",
              "    </tr>\n",
              "    <tr>\n",
              "      <th>11</th>\n",
              "      <td>month_day</td>\n",
              "      <td>31</td>\n",
              "    </tr>\n",
              "    <tr>\n",
              "      <th>4</th>\n",
              "      <td>district</td>\n",
              "      <td>27</td>\n",
              "    </tr>\n",
              "    <tr>\n",
              "      <th>7</th>\n",
              "      <td>fbi_code</td>\n",
              "      <td>26</td>\n",
              "    </tr>\n",
              "    <tr>\n",
              "      <th>8</th>\n",
              "      <td>hour</td>\n",
              "      <td>24</td>\n",
              "    </tr>\n",
              "    <tr>\n",
              "      <th>10</th>\n",
              "      <td>year_month</td>\n",
              "      <td>12</td>\n",
              "    </tr>\n",
              "    <tr>\n",
              "      <th>9</th>\n",
              "      <td>week_day</td>\n",
              "      <td>7</td>\n",
              "    </tr>\n",
              "    <tr>\n",
              "      <th>1</th>\n",
              "      <td>arrest</td>\n",
              "      <td>2</td>\n",
              "    </tr>\n",
              "    <tr>\n",
              "      <th>2</th>\n",
              "      <td>domestic</td>\n",
              "      <td>2</td>\n",
              "    </tr>\n",
              "  </tbody>\n",
              "</table>\n",
              "</div>\n",
              "      <button class=\"colab-df-convert\" onclick=\"convertToInteractive('df-72d2a6c4-d0bf-472a-987f-776a4513a64c')\"\n",
              "              title=\"Convert this dataframe to an interactive table.\"\n",
              "              style=\"display:none;\">\n",
              "        \n",
              "  <svg xmlns=\"http://www.w3.org/2000/svg\" height=\"24px\"viewBox=\"0 0 24 24\"\n",
              "       width=\"24px\">\n",
              "    <path d=\"M0 0h24v24H0V0z\" fill=\"none\"/>\n",
              "    <path d=\"M18.56 5.44l.94 2.06.94-2.06 2.06-.94-2.06-.94-.94-2.06-.94 2.06-2.06.94zm-11 1L8.5 8.5l.94-2.06 2.06-.94-2.06-.94L8.5 2.5l-.94 2.06-2.06.94zm10 10l.94 2.06.94-2.06 2.06-.94-2.06-.94-.94-2.06-.94 2.06-2.06.94z\"/><path d=\"M17.41 7.96l-1.37-1.37c-.4-.4-.92-.59-1.43-.59-.52 0-1.04.2-1.43.59L10.3 9.45l-7.72 7.72c-.78.78-.78 2.05 0 2.83L4 21.41c.39.39.9.59 1.41.59.51 0 1.02-.2 1.41-.59l7.78-7.78 2.81-2.81c.8-.78.8-2.07 0-2.86zM5.41 20L4 18.59l7.72-7.72 1.47 1.35L5.41 20z\"/>\n",
              "  </svg>\n",
              "      </button>\n",
              "      \n",
              "  <style>\n",
              "    .colab-df-container {\n",
              "      display:flex;\n",
              "      flex-wrap:wrap;\n",
              "      gap: 12px;\n",
              "    }\n",
              "\n",
              "    .colab-df-convert {\n",
              "      background-color: #E8F0FE;\n",
              "      border: none;\n",
              "      border-radius: 50%;\n",
              "      cursor: pointer;\n",
              "      display: none;\n",
              "      fill: #1967D2;\n",
              "      height: 32px;\n",
              "      padding: 0 0 0 0;\n",
              "      width: 32px;\n",
              "    }\n",
              "\n",
              "    .colab-df-convert:hover {\n",
              "      background-color: #E2EBFA;\n",
              "      box-shadow: 0px 1px 2px rgba(60, 64, 67, 0.3), 0px 1px 3px 1px rgba(60, 64, 67, 0.15);\n",
              "      fill: #174EA6;\n",
              "    }\n",
              "\n",
              "    [theme=dark] .colab-df-convert {\n",
              "      background-color: #3B4455;\n",
              "      fill: #D2E3FC;\n",
              "    }\n",
              "\n",
              "    [theme=dark] .colab-df-convert:hover {\n",
              "      background-color: #434B5C;\n",
              "      box-shadow: 0px 1px 3px 1px rgba(0, 0, 0, 0.15);\n",
              "      filter: drop-shadow(0px 1px 2px rgba(0, 0, 0, 0.3));\n",
              "      fill: #FFFFFF;\n",
              "    }\n",
              "  </style>\n",
              "\n",
              "      <script>\n",
              "        const buttonEl =\n",
              "          document.querySelector('#df-72d2a6c4-d0bf-472a-987f-776a4513a64c button.colab-df-convert');\n",
              "        buttonEl.style.display =\n",
              "          google.colab.kernel.accessAllowed ? 'block' : 'none';\n",
              "\n",
              "        async function convertToInteractive(key) {\n",
              "          const element = document.querySelector('#df-72d2a6c4-d0bf-472a-987f-776a4513a64c');\n",
              "          const dataTable =\n",
              "            await google.colab.kernel.invokeFunction('convertToInteractive',\n",
              "                                                     [key], {});\n",
              "          if (!dataTable) return;\n",
              "\n",
              "          const docLinkHtml = 'Like what you see? Visit the ' +\n",
              "            '<a target=\"_blank\" href=https://colab.research.google.com/notebooks/data_table.ipynb>data table notebook</a>'\n",
              "            + ' to learn more about interactive tables.';\n",
              "          element.innerHTML = '';\n",
              "          dataTable['output_type'] = 'display_data';\n",
              "          await google.colab.output.renderOutput(dataTable, element);\n",
              "          const docLink = document.createElement('div');\n",
              "          docLink.innerHTML = docLinkHtml;\n",
              "          element.appendChild(docLink);\n",
              "        }\n",
              "      </script>\n",
              "    </div>\n",
              "  </div>\n",
              "  "
            ],
            "text/plain": [
              "                 feature  level_count\n",
              "12           date_number         5862\n",
              "3                   beat          304\n",
              "0   location_description          173\n",
              "6         community_area           79\n",
              "5                   ward           51\n",
              "11             month_day           31\n",
              "4               district           27\n",
              "7               fbi_code           26\n",
              "8                   hour           24\n",
              "10            year_month           12\n",
              "9               week_day            7\n",
              "1                 arrest            2\n",
              "2               domestic            2"
            ]
          },
          "metadata": {},
          "execution_count": 95
        }
      ],
      "source": [
        "pd.DataFrame(feature_level_count_dic).sort_values(by='level_count', ascending=False)"
      ]
    },
    {
      "cell_type": "markdown",
      "metadata": {
        "id": "RtCp6KhLB119"
      },
      "source": [
        "### Preparing model"
      ]
    },
    {
      "cell_type": "code",
      "execution_count": 96,
      "metadata": {
        "id": "BzIUmUKVB119"
      },
      "outputs": [],
      "source": [
        "from pyspark.ml.feature import StringIndexer, VectorAssembler\n",
        "df_dates_features = df_dates.na.drop(subset=selected_features)"
      ]
    },
    {
      "cell_type": "markdown",
      "metadata": {
        "id": "IzcDGH9xB119"
      },
      "source": [
        "Let us use Spark's string indexer to index selected features"
      ]
    },
    {
      "cell_type": "code",
      "execution_count": 97,
      "metadata": {
        "id": "uv1HInedB119",
        "outputId": "80ff9106-c3ec-4bf5-f207-c2e2f4cf2540",
        "colab": {
          "base_uri": "https://localhost:8080/"
        }
      },
      "outputs": [
        {
          "output_type": "stream",
          "name": "stdout",
          "text": [
            "Fitting feature \"location_description\"\n",
            "Transforming \"location_description\"\n",
            "Fitting feature \"arrest\"\n",
            "Transforming \"arrest\"\n",
            "Fitting feature \"domestic\"\n",
            "Transforming \"domestic\"\n",
            "Fitting feature \"beat\"\n",
            "Transforming \"beat\"\n",
            "Fitting feature \"district\"\n",
            "Transforming \"district\"\n",
            "Fitting feature \"ward\"\n",
            "Transforming \"ward\"\n",
            "Fitting feature \"community_area\"\n",
            "Transforming \"community_area\"\n",
            "Fitting feature \"fbi_code\"\n",
            "Transforming \"fbi_code\"\n",
            "Fitting feature \"hour\"\n",
            "Transforming \"hour\"\n",
            "Fitting feature \"week_day\"\n",
            "Transforming \"week_day\"\n",
            "Fitting feature \"year_month\"\n",
            "Transforming \"year_month\"\n",
            "Fitting feature \"month_day\"\n",
            "Transforming \"month_day\"\n",
            "Fitting feature \"date_number\"\n",
            "Transforming \"date_number\"\n"
          ]
        }
      ],
      "source": [
        "for feature in feature_level_count_dic:\n",
        "    indexer = StringIndexer(inputCol=feature['feature'], outputCol='%s_indexed' % feature['feature'])\n",
        "    print('Fitting feature \"%s\"' % feature['feature'])\n",
        "    model = indexer.fit(df_dates_features)\n",
        "    print('Transforming \"%s\"' % feature['feature'])\n",
        "    df_dates_features = model.transform(df_dates_features)"
      ]
    },
    {
      "cell_type": "markdown",
      "metadata": {
        "id": "QuWNaj23B119"
      },
      "source": [
        "Now let's do the same with the label"
      ]
    },
    {
      "cell_type": "code",
      "execution_count": 98,
      "metadata": {
        "id": "nC66RKOIB11-"
      },
      "outputs": [],
      "source": [
        "## String-index the response variable:\n",
        "response_indexer = StringIndexer(inputCol='primary_type', outputCol='primary_type_indexed')\n",
        "response_model = response_indexer.fit(df_dates_features)\n",
        "df_dates_features = response_model.transform(df_dates_features)"
      ]
    },
    {
      "cell_type": "code",
      "execution_count": 99,
      "metadata": {
        "id": "qkDJrAlZB11-",
        "outputId": "6bc218cc-98ef-470b-f3b5-c268be275b8b",
        "colab": {
          "base_uri": "https://localhost:8080/"
        }
      },
      "outputs": [
        {
          "output_type": "stream",
          "name": "stdout",
          "text": [
            "+---+-------+-----------+--------------------+-----------------+----+------------+--------------------+--------------------+------+--------+----+--------+----+--------------+--------+------------+------------+----+--------------------+--------+---------+--------+-------------------+----------+----+--------+----------+---------+-----------+----------------------------+--------------+----------------+------------+----------------+------------+----------------------+----------------+------------+----------------+------------------+-----------------+-------------------+--------------------+\n",
            "|_c0|     id|case_number|                date|            block|iucr|primary_type|         description|location_description|arrest|domestic|beat|district|ward|community_area|fbi_code|x_coordinate|y_coordinate|year|          updated_on|latitude|longitude|location|          date_time|     month|hour|week_day|year_month|month_day|date_number|location_description_indexed|arrest_indexed|domestic_indexed|beat_indexed|district_indexed|ward_indexed|community_area_indexed|fbi_code_indexed|hour_indexed|week_day_indexed|year_month_indexed|month_day_indexed|date_number_indexed|primary_type_indexed|\n",
            "+---+-------+-----------+--------------------+-----------------+----+------------+--------------------+--------------------+------+--------+----+--------+----+--------------+--------+------------+------------+----+--------------------+--------+---------+--------+-------------------+----------+----+--------+----------+---------+-----------+----------------------------+--------------+----------------+------------+----------------+------------+----------------------+----------------+------------+----------------+------------------+-----------------+-------------------+--------------------+\n",
            "|879|4786321|   HM399414|01/01/2004 12:01:...|082XX S COLES AVE|0840|       THEFT|FINANCIAL ID THEF...|           RESIDENCE| False|   False| 424|     4.0| 7.0|          46.0|      06|        null|        null|2004|08/17/2015 03:03:...|    null|     null|    null|2004-01-01 00:01:00|2004-01-01|   0|       5|         1|        1|       1095|                         1.0|           0.0|             0.0|        45.0|             5.0|        15.0|                  19.0|             0.0|         0.0|             3.0|               9.0|              0.0|             1134.0|                 0.0|\n",
            "+---+-------+-----------+--------------------+-----------------+----+------------+--------------------+--------------------+------+--------+----+--------+----+--------------+--------+------------+------------+----+--------------------+--------+---------+--------+-------------------+----------+----+--------+----------+---------+-----------+----------------------------+--------------+----------------+------------+----------------+------------+----------------------+----------------+------------+----------------+------------------+-----------------+-------------------+--------------------+\n",
            "only showing top 1 row\n",
            "\n"
          ]
        }
      ],
      "source": [
        "#What does it look like now...\n",
        "df_dates_features.show(1)"
      ]
    },
    {
      "cell_type": "markdown",
      "metadata": {
        "id": "pTTRMWzvB11-"
      },
      "source": [
        "Let's vectorize the features\n",
        "\n",
        "We use a vector assembler to vectorize all predictors into a `features` column"
      ]
    },
    {
      "cell_type": "code",
      "execution_count": 100,
      "metadata": {
        "id": "yQlyvrqDB11-",
        "outputId": "9678ffc1-7ee0-4631-9352-059bcf56c31a",
        "colab": {
          "base_uri": "https://localhost:8080/"
        }
      },
      "outputs": [
        {
          "output_type": "execute_result",
          "data": {
            "text/plain": [
              "['location_description_indexed',\n",
              " 'arrest_indexed',\n",
              " 'domestic_indexed',\n",
              " 'beat_indexed',\n",
              " 'district_indexed',\n",
              " 'ward_indexed',\n",
              " 'community_area_indexed',\n",
              " 'fbi_code_indexed',\n",
              " 'hour_indexed',\n",
              " 'week_day_indexed',\n",
              " 'year_month_indexed',\n",
              " 'month_day_indexed',\n",
              " 'date_number_indexed']"
            ]
          },
          "metadata": {},
          "execution_count": 100
        }
      ],
      "source": [
        "indexed_features = ['%s_indexed' % fc['feature'] for fc in feature_level_count_dic]\n",
        "indexed_features"
      ]
    },
    {
      "cell_type": "code",
      "execution_count": 101,
      "metadata": {
        "id": "hd7cHSaDB11-"
      },
      "outputs": [],
      "source": [
        "assembler = VectorAssembler(inputCols=indexed_features, outputCol='features')\n",
        "vectorized_df_dates = assembler.transform(df_dates_features)"
      ]
    },
    {
      "cell_type": "code",
      "execution_count": 102,
      "metadata": {
        "id": "8rjBaOvIB11-",
        "outputId": "002c891a-aa5e-49fe-f483-fbcac3f45404",
        "colab": {
          "base_uri": "https://localhost:8080/"
        }
      },
      "outputs": [
        {
          "output_type": "execute_result",
          "data": {
            "text/plain": [
              "[Row(features=DenseVector([1.0, 0.0, 0.0, 45.0, 5.0, 15.0, 19.0, 0.0, 0.0, 3.0, 9.0, 0.0, 1134.0]))]"
            ]
          },
          "metadata": {},
          "execution_count": 102
        }
      ],
      "source": [
        "vectorized_df_dates.select('features').take(1)"
      ]
    },
    {
      "cell_type": "markdown",
      "metadata": {
        "id": "_VhRLNToB11_"
      },
      "source": [
        "### Now let's train the model.\n",
        "\n",
        "We're using **60%** to **40%** split between the train and the test datasets\n",
        "\n",
        "Let's try to train a logistic regression."
      ]
    },
    {
      "cell_type": "code",
      "execution_count": 103,
      "metadata": {
        "id": "V5o3nfGoB11_"
      },
      "outputs": [],
      "source": [
        "train, test = vectorized_df_dates.randomSplit([0.6, 0.4])"
      ]
    },
    {
      "cell_type": "code",
      "execution_count": 104,
      "metadata": {
        "id": "MAiOrrAxB11_"
      },
      "outputs": [],
      "source": [
        "from pyspark.ml.classification import LogisticRegression"
      ]
    },
    {
      "cell_type": "code",
      "execution_count": 105,
      "metadata": {
        "id": "mN_6tIczB12D"
      },
      "outputs": [],
      "source": [
        "logisticRegression = LogisticRegression(labelCol='primary_type_indexed', featuresCol='features', maxIter=10, family='multinomial')"
      ]
    },
    {
      "cell_type": "code",
      "execution_count": null,
      "metadata": {
        "id": "r1POpewVB12D"
      },
      "outputs": [],
      "source": [
        "fittedModel = logisticRegression.fit(train)"
      ]
    },
    {
      "cell_type": "markdown",
      "metadata": {
        "id": "61Bp4ZAPB12D"
      },
      "source": [
        "## Model performance?"
      ]
    },
    {
      "cell_type": "code",
      "execution_count": null,
      "metadata": {
        "id": "EUk1afIxB12D"
      },
      "outputs": [],
      "source": [
        "fittedModel.summary.accuracy"
      ]
    },
    {
      "cell_type": "code",
      "execution_count": null,
      "metadata": {
        "id": "EaUuQzqgB12E"
      },
      "outputs": [],
      "source": [
        "model_summary = fittedModel.summary"
      ]
    },
    {
      "cell_type": "code",
      "execution_count": null,
      "metadata": {
        "id": "OtiUfTfEB12E"
      },
      "outputs": [],
      "source": [
        "fittedModel.coefficientMatrix"
      ]
    },
    {
      "cell_type": "markdown",
      "metadata": {
        "id": "Z1waEhnaB12E"
      },
      "source": [
        "#### Why the 34X13 shape?\n",
        "\n",
        "That's because the multinomial logistic regression is fitted on **each class** of the label. It computes the probability of each class and then predicts based on these probabilities."
      ]
    },
    {
      "cell_type": "code",
      "execution_count": null,
      "metadata": {
        "id": "7foJ6gSZB12E"
      },
      "outputs": [],
      "source": [
        "print(fittedModel.coefficientMatrix)"
      ]
    },
    {
      "cell_type": "code",
      "execution_count": null,
      "metadata": {
        "id": "21BT-leoB12E"
      },
      "outputs": [],
      "source": [
        "print('Coefficient matrix:\\nRow count = %s\\nCol count = %s' % (fittedModel.coefficientMatrix.numRows, fittedModel.coefficientMatrix.numCols))"
      ]
    },
    {
      "cell_type": "code",
      "execution_count": null,
      "metadata": {
        "id": "vDsTIPWQB12F"
      },
      "outputs": [],
      "source": [
        "print('Model:\\nNum Classes = %s\\nNum Features = %s' % (fittedModel.numClasses, fittedModel.numFeatures))"
      ]
    },
    {
      "cell_type": "code",
      "execution_count": null,
      "metadata": {
        "id": "RI1PAVf6B12F"
      },
      "outputs": [],
      "source": [
        "print('Training \"primary_type\" factor level count = %s' % train.select('primary_type_indexed').distinct().count())"
      ]
    },
    {
      "cell_type": "markdown",
      "metadata": {
        "id": "6ZoZm27SB12F"
      },
      "source": [
        "So our `randomSplit` call to split train/test data sets took some primary types to only either of the two parts"
      ]
    },
    {
      "cell_type": "code",
      "execution_count": null,
      "metadata": {
        "id": "I0BaXvqwB12F"
      },
      "outputs": [],
      "source": [
        "vectorized_df_dates.select('features').show(2, truncate=False)"
      ]
    },
    {
      "cell_type": "code",
      "execution_count": null,
      "metadata": {
        "id": "WU8VQVboB12F"
      },
      "outputs": [],
      "source": [
        "fittedModel.numClasses"
      ]
    },
    {
      "cell_type": "code",
      "execution_count": null,
      "metadata": {
        "id": "6FUrKeSdB12G"
      },
      "outputs": [],
      "source": [
        "fittedModel.numFeatures"
      ]
    },
    {
      "cell_type": "code",
      "execution_count": null,
      "metadata": {
        "id": "1k86EnvlB12G"
      },
      "outputs": [],
      "source": [
        "train.select('primary_type_indexed').distinct().count()"
      ]
    },
    {
      "cell_type": "code",
      "execution_count": null,
      "metadata": {
        "id": "Vogn3CyRB12G"
      },
      "outputs": [],
      "source": [
        "df_dates.select('primary_type').distinct().count()"
      ]
    },
    {
      "cell_type": "code",
      "execution_count": null,
      "metadata": {
        "id": "LGXk-pOrB12G"
      },
      "outputs": [],
      "source": [
        "fittedModel.interceptVector.values.size"
      ]
    },
    {
      "cell_type": "code",
      "execution_count": null,
      "metadata": {
        "id": "AWcI2uQrB12G"
      },
      "outputs": [],
      "source": [
        "print(model_summary.objectiveHistory)\n",
        "print()\n",
        "print('Objective history size ', len(model_summary.objectiveHistory))"
      ]
    },
    {
      "cell_type": "code",
      "execution_count": null,
      "metadata": {
        "id": "K-6dY3JEB12H"
      },
      "outputs": [],
      "source": [
        "sns.barplot(y=model_summary.objectiveHistory, x=list(range(len(model_summary.objectiveHistory))))"
      ]
    },
    {
      "cell_type": "code",
      "execution_count": null,
      "metadata": {
        "scrolled": false,
        "id": "sW10pcjnB12H",
        "outputId": "bbfe0a46-0c48-462f-a4b3-992cf4ac9341"
      },
      "outputs": [
        {
          "name": "stdout",
          "output_type": "stream",
          "text": [
            "{0.0: {'index': 0.0}, 1.0: {'index': 1.0}, 2.0: {'index': 2.0}, 3.0: {'index': 3.0}, 4.0: {'index': 4.0}, 5.0: {'index': 5.0}, 6.0: {'index': 6.0}, 7.0: {'index': 7.0}, 8.0: {'index': 8.0}, 9.0: {'index': 9.0}, 10.0: {'index': 10.0}, 11.0: {'index': 11.0}, 12.0: {'index': 12.0}, 13.0: {'index': 13.0}, 14.0: {'index': 14.0}, 15.0: {'index': 15.0}, 16.0: {'index': 16.0}, 17.0: {'index': 17.0}, 18.0: {'index': 18.0}, 19.0: {'index': 19.0}, 20.0: {'index': 20.0}, 21.0: {'index': 21.0}, 22.0: {'index': 22.0}, 23.0: {'index': 23.0}, 24.0: {'index': 24.0}, 25.0: {'index': 25.0}, 26.0: {'index': 26.0}, 27.0: {'index': 27.0}, 28.0: {'index': 28.0}, 29.0: {'index': 29.0}, 30.0: {'index': 30.0}, 31.0: {'index': 31.0}, 32.0: {'index': 32.0}, 33.0: {'index': 33.0}}\n"
          ]
        }
      ],
      "source": [
        "label_stats = {float(i):{'index': float(i)} for i in range(34)}\n",
        "print(label_stats)"
      ]
    },
    {
      "cell_type": "code",
      "execution_count": null,
      "metadata": {
        "id": "9oOH0i_QB12H",
        "outputId": "54fd0ec1-de7d-4f7b-cf05-52cb6143f507"
      },
      "outputs": [
        {
          "name": "stdout",
          "output_type": "stream",
          "text": [
            "False positive rate by label:\n"
          ]
        }
      ],
      "source": [
        "print(\"False positive rate by label:\")\n",
        "for i, rate in enumerate(model_summary.falsePositiveRateByLabel):\n",
        "    label_stats[i]['false_positive_rate'] = rate\n",
        "    \n",
        "for i, rate in enumerate(model_summary.truePositiveRateByLabel):\n",
        "    label_stats[i]['true_positive_rate'] = rate\n",
        "    \n",
        "for i, rate in enumerate(model_summary.precisionByLabel):\n",
        "    label_stats[i]['precision_rate'] = rate\n",
        "    \n",
        "for i, rate in enumerate(model_summary.recallByLabel):\n",
        "    label_stats[i]['recall_rate'] = rate\n",
        "    \n",
        "for i, rate in enumerate(model_summary.fMeasureByLabel()):\n",
        "    label_stats[i]['f_measure'] = rate"
      ]
    },
    {
      "cell_type": "code",
      "execution_count": null,
      "metadata": {
        "id": "iPaH4kKFB12H"
      },
      "outputs": [],
      "source": [
        "train_rdd = train.select(['primary_type', 'primary_type_indexed']).distinct().orderBy('primary_type_indexed').rdd.map(lambda l: l.asDict()).collect()\n"
      ]
    },
    {
      "cell_type": "code",
      "execution_count": null,
      "metadata": {
        "id": "8qQVcsc6B12H",
        "outputId": "7142cf1a-e37c-4c05-b569-8ab195d9cd87"
      },
      "outputs": [
        {
          "name": "stdout",
          "output_type": "stream",
          "text": [
            "{'primary_type': 'THEFT', 'primary_type_indexed': 0.0}\n",
            "{'primary_type': 'BATTERY', 'primary_type_indexed': 1.0}\n",
            "{'primary_type': 'CRIMINAL DAMAGE', 'primary_type_indexed': 2.0}\n",
            "{'primary_type': 'NARCOTICS', 'primary_type_indexed': 3.0}\n",
            "{'primary_type': 'OTHER OFFENSE', 'primary_type_indexed': 4.0}\n",
            "{'primary_type': 'ASSAULT', 'primary_type_indexed': 5.0}\n",
            "{'primary_type': 'BURGLARY', 'primary_type_indexed': 6.0}\n",
            "{'primary_type': 'MOTOR VEHICLE THEFT', 'primary_type_indexed': 7.0}\n",
            "{'primary_type': 'ROBBERY', 'primary_type_indexed': 8.0}\n",
            "{'primary_type': 'DECEPTIVE PRACTICE', 'primary_type_indexed': 9.0}\n",
            "{'primary_type': 'CRIMINAL TRESPASS', 'primary_type_indexed': 10.0}\n",
            "{'primary_type': 'PROSTITUTION', 'primary_type_indexed': 11.0}\n",
            "{'primary_type': 'WEAPONS VIOLATION', 'primary_type_indexed': 12.0}\n",
            "{'primary_type': 'PUBLIC PEACE VIOLATION', 'primary_type_indexed': 13.0}\n",
            "{'primary_type': 'OFFENSE INVOLVING CHILDREN', 'primary_type_indexed': 14.0}\n",
            "{'primary_type': 'CRIM SEXUAL ASSAULT', 'primary_type_indexed': 15.0}\n",
            "{'primary_type': 'SEX OFFENSE', 'primary_type_indexed': 16.0}\n",
            "{'primary_type': 'GAMBLING', 'primary_type_indexed': 17.0}\n",
            "{'primary_type': 'LIQUOR LAW VIOLATION', 'primary_type_indexed': 18.0}\n",
            "{'primary_type': 'INTERFERENCE WITH PUBLIC OFFICER', 'primary_type_indexed': 19.0}\n",
            "{'primary_type': 'ARSON', 'primary_type_indexed': 20.0}\n",
            "{'primary_type': 'HOMICIDE', 'primary_type_indexed': 21.0}\n",
            "{'primary_type': 'KIDNAPPING', 'primary_type_indexed': 22.0}\n",
            "{'primary_type': 'INTIMIDATION', 'primary_type_indexed': 23.0}\n",
            "{'primary_type': 'STALKING', 'primary_type_indexed': 24.0}\n",
            "{'primary_type': 'OBSCENITY', 'primary_type_indexed': 25.0}\n",
            "{'primary_type': 'PUBLIC INDECENCY', 'primary_type_indexed': 26.0}\n",
            "{'primary_type': 'OTHER NARCOTIC VIOLATION', 'primary_type_indexed': 27.0}\n",
            "{'primary_type': 'NON-CRIMINAL', 'primary_type_indexed': 28.0}\n",
            "{'primary_type': 'CONCEALED CARRY LICENSE VIOLATION', 'primary_type_indexed': 29.0}\n",
            "{'primary_type': 'NON - CRIMINAL', 'primary_type_indexed': 30.0}\n",
            "{'primary_type': 'HUMAN TRAFFICKING', 'primary_type_indexed': 31.0}\n",
            "{'primary_type': 'RITUALISM', 'primary_type_indexed': 32.0}\n",
            "{'primary_type': 'NON-CRIMINAL (SUBJECT SPECIFIED)', 'primary_type_indexed': 33.0}\n"
          ]
        }
      ],
      "source": [
        "for l in train_rdd:\n",
        "    print(l)\n",
        "    label_stats[l['primary_type_indexed']]['primary_type'] = l['primary_type']"
      ]
    },
    {
      "cell_type": "code",
      "execution_count": null,
      "metadata": {
        "id": "ISbDXKiWB12H"
      },
      "outputs": [],
      "source": [
        "rates_pddf = pd.DataFrame(list(label_stats.values()))"
      ]
    },
    {
      "cell_type": "code",
      "execution_count": null,
      "metadata": {
        "id": "kJkFjRnGB12I"
      },
      "outputs": [],
      "source": [
        "rates_pddf = rates_pddf.sort_values(by='precision_rate', ascending=False)"
      ]
    },
    {
      "cell_type": "markdown",
      "metadata": {
        "id": "hqVSfg5AB12I"
      },
      "source": [
        "#### Why does this model seem to be so good at predicting theft? (TODO)"
      ]
    },
    {
      "cell_type": "code",
      "execution_count": null,
      "metadata": {
        "id": "fhXjzli0B12I",
        "outputId": "5aaee19b-8401-4de1-9716-769d8372f43a"
      },
      "outputs": [
        {
          "data": {
            "text/html": [
              "<div>\n",
              "<style scoped>\n",
              "    .dataframe tbody tr th:only-of-type {\n",
              "        vertical-align: middle;\n",
              "    }\n",
              "\n",
              "    .dataframe tbody tr th {\n",
              "        vertical-align: top;\n",
              "    }\n",
              "\n",
              "    .dataframe thead th {\n",
              "        text-align: right;\n",
              "    }\n",
              "</style>\n",
              "<table border=\"1\" class=\"dataframe\">\n",
              "  <thead>\n",
              "    <tr style=\"text-align: right;\">\n",
              "      <th></th>\n",
              "      <th>f_measure</th>\n",
              "      <th>false_positive_rate</th>\n",
              "      <th>index</th>\n",
              "      <th>precision_rate</th>\n",
              "      <th>primary_type</th>\n",
              "      <th>recall_rate</th>\n",
              "      <th>true_positive_rate</th>\n",
              "    </tr>\n",
              "  </thead>\n",
              "  <tbody>\n",
              "    <tr>\n",
              "      <th>0</th>\n",
              "      <td>1.000000</td>\n",
              "      <td>0.000000</td>\n",
              "      <td>0.0</td>\n",
              "      <td>1.000000</td>\n",
              "      <td>THEFT</td>\n",
              "      <td>1.000000</td>\n",
              "      <td>1.000000</td>\n",
              "    </tr>\n",
              "    <tr>\n",
              "      <th>14</th>\n",
              "      <td>0.432843</td>\n",
              "      <td>0.000941</td>\n",
              "      <td>14.0</td>\n",
              "      <td>0.691436</td>\n",
              "      <td>OFFENSE INVOLVING CHILDREN</td>\n",
              "      <td>0.315025</td>\n",
              "      <td>0.315025</td>\n",
              "    </tr>\n",
              "    <tr>\n",
              "      <th>3</th>\n",
              "      <td>0.771000</td>\n",
              "      <td>0.068760</td>\n",
              "      <td>3.0</td>\n",
              "      <td>0.639363</td>\n",
              "      <td>NARCOTICS</td>\n",
              "      <td>0.970897</td>\n",
              "      <td>0.970897</td>\n",
              "    </tr>\n",
              "    <tr>\n",
              "      <th>6</th>\n",
              "      <td>0.694052</td>\n",
              "      <td>0.037359</td>\n",
              "      <td>6.0</td>\n",
              "      <td>0.590063</td>\n",
              "      <td>BURGLARY</td>\n",
              "      <td>0.842537</td>\n",
              "      <td>0.842537</td>\n",
              "    </tr>\n",
              "    <tr>\n",
              "      <th>2</th>\n",
              "      <td>0.660851</td>\n",
              "      <td>0.079295</td>\n",
              "      <td>2.0</td>\n",
              "      <td>0.567407</td>\n",
              "      <td>CRIMINAL DAMAGE</td>\n",
              "      <td>0.791139</td>\n",
              "      <td>0.791139</td>\n",
              "    </tr>\n",
              "    <tr>\n",
              "      <th>1</th>\n",
              "      <td>0.453564</td>\n",
              "      <td>0.083041</td>\n",
              "      <td>1.0</td>\n",
              "      <td>0.517437</td>\n",
              "      <td>BATTERY</td>\n",
              "      <td>0.403727</td>\n",
              "      <td>0.403727</td>\n",
              "    </tr>\n",
              "    <tr>\n",
              "      <th>7</th>\n",
              "      <td>0.535707</td>\n",
              "      <td>0.025021</td>\n",
              "      <td>7.0</td>\n",
              "      <td>0.517173</td>\n",
              "      <td>MOTOR VEHICLE THEFT</td>\n",
              "      <td>0.555620</td>\n",
              "      <td>0.555620</td>\n",
              "    </tr>\n",
              "    <tr>\n",
              "      <th>18</th>\n",
              "      <td>0.348696</td>\n",
              "      <td>0.000714</td>\n",
              "      <td>18.0</td>\n",
              "      <td>0.452954</td>\n",
              "      <td>LIQUOR LAW VIOLATION</td>\n",
              "      <td>0.283453</td>\n",
              "      <td>0.283453</td>\n",
              "    </tr>\n",
              "    <tr>\n",
              "      <th>11</th>\n",
              "      <td>0.566450</td>\n",
              "      <td>0.011726</td>\n",
              "      <td>11.0</td>\n",
              "      <td>0.431527</td>\n",
              "      <td>PROSTITUTION</td>\n",
              "      <td>0.824125</td>\n",
              "      <td>0.824125</td>\n",
              "    </tr>\n",
              "    <tr>\n",
              "      <th>17</th>\n",
              "      <td>0.469533</td>\n",
              "      <td>0.001852</td>\n",
              "      <td>17.0</td>\n",
              "      <td>0.416885</td>\n",
              "      <td>GAMBLING</td>\n",
              "      <td>0.537402</td>\n",
              "      <td>0.537402</td>\n",
              "    </tr>\n",
              "    <tr>\n",
              "      <th>4</th>\n",
              "      <td>0.045514</td>\n",
              "      <td>0.002276</td>\n",
              "      <td>4.0</td>\n",
              "      <td>0.410242</td>\n",
              "      <td>OTHER OFFENSE</td>\n",
              "      <td>0.024093</td>\n",
              "      <td>0.024093</td>\n",
              "    </tr>\n",
              "    <tr>\n",
              "      <th>10</th>\n",
              "      <td>0.215583</td>\n",
              "      <td>0.006262</td>\n",
              "      <td>10.0</td>\n",
              "      <td>0.410169</td>\n",
              "      <td>CRIMINAL TRESPASS</td>\n",
              "      <td>0.146217</td>\n",
              "      <td>0.146217</td>\n",
              "    </tr>\n",
              "    <tr>\n",
              "      <th>21</th>\n",
              "      <td>0.303626</td>\n",
              "      <td>0.000434</td>\n",
              "      <td>21.0</td>\n",
              "      <td>0.396214</td>\n",
              "      <td>HOMICIDE</td>\n",
              "      <td>0.246114</td>\n",
              "      <td>0.246114</td>\n",
              "    </tr>\n",
              "    <tr>\n",
              "      <th>13</th>\n",
              "      <td>0.031158</td>\n",
              "      <td>0.000194</td>\n",
              "      <td>13.0</td>\n",
              "      <td>0.389658</td>\n",
              "      <td>PUBLIC PEACE VIOLATION</td>\n",
              "      <td>0.016228</td>\n",
              "      <td>0.016228</td>\n",
              "    </tr>\n",
              "    <tr>\n",
              "      <th>9</th>\n",
              "      <td>0.410013</td>\n",
              "      <td>0.027827</td>\n",
              "      <td>9.0</td>\n",
              "      <td>0.376070</td>\n",
              "      <td>DECEPTIVE PRACTICE</td>\n",
              "      <td>0.450692</td>\n",
              "      <td>0.450692</td>\n",
              "    </tr>\n",
              "    <tr>\n",
              "      <th>5</th>\n",
              "      <td>0.360216</td>\n",
              "      <td>0.037348</td>\n",
              "      <td>5.0</td>\n",
              "      <td>0.374041</td>\n",
              "      <td>ASSAULT</td>\n",
              "      <td>0.347376</td>\n",
              "      <td>0.347376</td>\n",
              "    </tr>\n",
              "    <tr>\n",
              "      <th>8</th>\n",
              "      <td>0.291963</td>\n",
              "      <td>0.023245</td>\n",
              "      <td>8.0</td>\n",
              "      <td>0.315355</td>\n",
              "      <td>ROBBERY</td>\n",
              "      <td>0.271801</td>\n",
              "      <td>0.271801</td>\n",
              "    </tr>\n",
              "    <tr>\n",
              "      <th>12</th>\n",
              "      <td>0.264141</td>\n",
              "      <td>0.005356</td>\n",
              "      <td>12.0</td>\n",
              "      <td>0.302200</td>\n",
              "      <td>WEAPONS VIOLATION</td>\n",
              "      <td>0.234597</td>\n",
              "      <td>0.234597</td>\n",
              "    </tr>\n",
              "    <tr>\n",
              "      <th>20</th>\n",
              "      <td>0.279198</td>\n",
              "      <td>0.002067</td>\n",
              "      <td>20.0</td>\n",
              "      <td>0.223772</td>\n",
              "      <td>ARSON</td>\n",
              "      <td>0.371121</td>\n",
              "      <td>0.371121</td>\n",
              "    </tr>\n",
              "    <tr>\n",
              "      <th>15</th>\n",
              "      <td>0.022451</td>\n",
              "      <td>0.000322</td>\n",
              "      <td>15.0</td>\n",
              "      <td>0.127900</td>\n",
              "      <td>CRIM SEXUAL ASSAULT</td>\n",
              "      <td>0.012305</td>\n",
              "      <td>0.012305</td>\n",
              "    </tr>\n",
              "    <tr>\n",
              "      <th>16</th>\n",
              "      <td>0.000643</td>\n",
              "      <td>0.000028</td>\n",
              "      <td>16.0</td>\n",
              "      <td>0.039683</td>\n",
              "      <td>SEX OFFENSE</td>\n",
              "      <td>0.000324</td>\n",
              "      <td>0.000324</td>\n",
              "    </tr>\n",
              "    <tr>\n",
              "      <th>27</th>\n",
              "      <td>0.000000</td>\n",
              "      <td>0.000000</td>\n",
              "      <td>27.0</td>\n",
              "      <td>0.000000</td>\n",
              "      <td>OTHER NARCOTIC VIOLATION</td>\n",
              "      <td>0.000000</td>\n",
              "      <td>0.000000</td>\n",
              "    </tr>\n",
              "    <tr>\n",
              "      <th>32</th>\n",
              "      <td>0.000000</td>\n",
              "      <td>0.000000</td>\n",
              "      <td>32.0</td>\n",
              "      <td>0.000000</td>\n",
              "      <td>RITUALISM</td>\n",
              "      <td>0.000000</td>\n",
              "      <td>0.000000</td>\n",
              "    </tr>\n",
              "    <tr>\n",
              "      <th>31</th>\n",
              "      <td>0.000000</td>\n",
              "      <td>0.000000</td>\n",
              "      <td>31.0</td>\n",
              "      <td>0.000000</td>\n",
              "      <td>HUMAN TRAFFICKING</td>\n",
              "      <td>0.000000</td>\n",
              "      <td>0.000000</td>\n",
              "    </tr>\n",
              "    <tr>\n",
              "      <th>30</th>\n",
              "      <td>0.000000</td>\n",
              "      <td>0.000000</td>\n",
              "      <td>30.0</td>\n",
              "      <td>0.000000</td>\n",
              "      <td>NON - CRIMINAL</td>\n",
              "      <td>0.000000</td>\n",
              "      <td>0.000000</td>\n",
              "    </tr>\n",
              "    <tr>\n",
              "      <th>29</th>\n",
              "      <td>0.000000</td>\n",
              "      <td>0.000000</td>\n",
              "      <td>29.0</td>\n",
              "      <td>0.000000</td>\n",
              "      <td>CONCEALED CARRY LICENSE VIOLATION</td>\n",
              "      <td>0.000000</td>\n",
              "      <td>0.000000</td>\n",
              "    </tr>\n",
              "    <tr>\n",
              "      <th>28</th>\n",
              "      <td>0.000000</td>\n",
              "      <td>0.000000</td>\n",
              "      <td>28.0</td>\n",
              "      <td>0.000000</td>\n",
              "      <td>NON-CRIMINAL</td>\n",
              "      <td>0.000000</td>\n",
              "      <td>0.000000</td>\n",
              "    </tr>\n",
              "    <tr>\n",
              "      <th>22</th>\n",
              "      <td>0.000000</td>\n",
              "      <td>0.000000</td>\n",
              "      <td>22.0</td>\n",
              "      <td>0.000000</td>\n",
              "      <td>KIDNAPPING</td>\n",
              "      <td>0.000000</td>\n",
              "      <td>0.000000</td>\n",
              "    </tr>\n",
              "    <tr>\n",
              "      <th>26</th>\n",
              "      <td>0.000000</td>\n",
              "      <td>0.000000</td>\n",
              "      <td>26.0</td>\n",
              "      <td>0.000000</td>\n",
              "      <td>PUBLIC INDECENCY</td>\n",
              "      <td>0.000000</td>\n",
              "      <td>0.000000</td>\n",
              "    </tr>\n",
              "    <tr>\n",
              "      <th>25</th>\n",
              "      <td>0.000000</td>\n",
              "      <td>0.000000</td>\n",
              "      <td>25.0</td>\n",
              "      <td>0.000000</td>\n",
              "      <td>OBSCENITY</td>\n",
              "      <td>0.000000</td>\n",
              "      <td>0.000000</td>\n",
              "    </tr>\n",
              "    <tr>\n",
              "      <th>24</th>\n",
              "      <td>0.000000</td>\n",
              "      <td>0.000000</td>\n",
              "      <td>24.0</td>\n",
              "      <td>0.000000</td>\n",
              "      <td>STALKING</td>\n",
              "      <td>0.000000</td>\n",
              "      <td>0.000000</td>\n",
              "    </tr>\n",
              "    <tr>\n",
              "      <th>23</th>\n",
              "      <td>0.000000</td>\n",
              "      <td>0.000000</td>\n",
              "      <td>23.0</td>\n",
              "      <td>0.000000</td>\n",
              "      <td>INTIMIDATION</td>\n",
              "      <td>0.000000</td>\n",
              "      <td>0.000000</td>\n",
              "    </tr>\n",
              "    <tr>\n",
              "      <th>19</th>\n",
              "      <td>0.000000</td>\n",
              "      <td>0.000000</td>\n",
              "      <td>19.0</td>\n",
              "      <td>0.000000</td>\n",
              "      <td>INTERFERENCE WITH PUBLIC OFFICER</td>\n",
              "      <td>0.000000</td>\n",
              "      <td>0.000000</td>\n",
              "    </tr>\n",
              "    <tr>\n",
              "      <th>33</th>\n",
              "      <td>0.000000</td>\n",
              "      <td>0.000000</td>\n",
              "      <td>33.0</td>\n",
              "      <td>0.000000</td>\n",
              "      <td>NON-CRIMINAL (SUBJECT SPECIFIED)</td>\n",
              "      <td>0.000000</td>\n",
              "      <td>0.000000</td>\n",
              "    </tr>\n",
              "  </tbody>\n",
              "</table>\n",
              "</div>"
            ],
            "text/plain": [
              "    f_measure  false_positive_rate  index  precision_rate  \\\n",
              "0    1.000000             0.000000    0.0        1.000000   \n",
              "14   0.432843             0.000941   14.0        0.691436   \n",
              "3    0.771000             0.068760    3.0        0.639363   \n",
              "6    0.694052             0.037359    6.0        0.590063   \n",
              "2    0.660851             0.079295    2.0        0.567407   \n",
              "1    0.453564             0.083041    1.0        0.517437   \n",
              "7    0.535707             0.025021    7.0        0.517173   \n",
              "18   0.348696             0.000714   18.0        0.452954   \n",
              "11   0.566450             0.011726   11.0        0.431527   \n",
              "17   0.469533             0.001852   17.0        0.416885   \n",
              "4    0.045514             0.002276    4.0        0.410242   \n",
              "10   0.215583             0.006262   10.0        0.410169   \n",
              "21   0.303626             0.000434   21.0        0.396214   \n",
              "13   0.031158             0.000194   13.0        0.389658   \n",
              "9    0.410013             0.027827    9.0        0.376070   \n",
              "5    0.360216             0.037348    5.0        0.374041   \n",
              "8    0.291963             0.023245    8.0        0.315355   \n",
              "12   0.264141             0.005356   12.0        0.302200   \n",
              "20   0.279198             0.002067   20.0        0.223772   \n",
              "15   0.022451             0.000322   15.0        0.127900   \n",
              "16   0.000643             0.000028   16.0        0.039683   \n",
              "27   0.000000             0.000000   27.0        0.000000   \n",
              "32   0.000000             0.000000   32.0        0.000000   \n",
              "31   0.000000             0.000000   31.0        0.000000   \n",
              "30   0.000000             0.000000   30.0        0.000000   \n",
              "29   0.000000             0.000000   29.0        0.000000   \n",
              "28   0.000000             0.000000   28.0        0.000000   \n",
              "22   0.000000             0.000000   22.0        0.000000   \n",
              "26   0.000000             0.000000   26.0        0.000000   \n",
              "25   0.000000             0.000000   25.0        0.000000   \n",
              "24   0.000000             0.000000   24.0        0.000000   \n",
              "23   0.000000             0.000000   23.0        0.000000   \n",
              "19   0.000000             0.000000   19.0        0.000000   \n",
              "33   0.000000             0.000000   33.0        0.000000   \n",
              "\n",
              "                         primary_type  recall_rate  true_positive_rate  \n",
              "0                               THEFT     1.000000            1.000000  \n",
              "14         OFFENSE INVOLVING CHILDREN     0.315025            0.315025  \n",
              "3                           NARCOTICS     0.970897            0.970897  \n",
              "6                            BURGLARY     0.842537            0.842537  \n",
              "2                     CRIMINAL DAMAGE     0.791139            0.791139  \n",
              "1                             BATTERY     0.403727            0.403727  \n",
              "7                 MOTOR VEHICLE THEFT     0.555620            0.555620  \n",
              "18               LIQUOR LAW VIOLATION     0.283453            0.283453  \n",
              "11                       PROSTITUTION     0.824125            0.824125  \n",
              "17                           GAMBLING     0.537402            0.537402  \n",
              "4                       OTHER OFFENSE     0.024093            0.024093  \n",
              "10                  CRIMINAL TRESPASS     0.146217            0.146217  \n",
              "21                           HOMICIDE     0.246114            0.246114  \n",
              "13             PUBLIC PEACE VIOLATION     0.016228            0.016228  \n",
              "9                  DECEPTIVE PRACTICE     0.450692            0.450692  \n",
              "5                             ASSAULT     0.347376            0.347376  \n",
              "8                             ROBBERY     0.271801            0.271801  \n",
              "12                  WEAPONS VIOLATION     0.234597            0.234597  \n",
              "20                              ARSON     0.371121            0.371121  \n",
              "15                CRIM SEXUAL ASSAULT     0.012305            0.012305  \n",
              "16                        SEX OFFENSE     0.000324            0.000324  \n",
              "27           OTHER NARCOTIC VIOLATION     0.000000            0.000000  \n",
              "32                          RITUALISM     0.000000            0.000000  \n",
              "31                  HUMAN TRAFFICKING     0.000000            0.000000  \n",
              "30                     NON - CRIMINAL     0.000000            0.000000  \n",
              "29  CONCEALED CARRY LICENSE VIOLATION     0.000000            0.000000  \n",
              "28                       NON-CRIMINAL     0.000000            0.000000  \n",
              "22                         KIDNAPPING     0.000000            0.000000  \n",
              "26                   PUBLIC INDECENCY     0.000000            0.000000  \n",
              "25                          OBSCENITY     0.000000            0.000000  \n",
              "24                           STALKING     0.000000            0.000000  \n",
              "23                       INTIMIDATION     0.000000            0.000000  \n",
              "19   INTERFERENCE WITH PUBLIC OFFICER     0.000000            0.000000  \n",
              "33   NON-CRIMINAL (SUBJECT SPECIFIED)     0.000000            0.000000  "
            ]
          },
          "execution_count": 397,
          "metadata": {},
          "output_type": "execute_result"
        }
      ],
      "source": [
        "rates_pddf"
      ]
    },
    {
      "cell_type": "markdown",
      "metadata": {
        "id": "zia6icgeB12I"
      },
      "source": [
        "## TODO:\n",
        "\n",
        " * Run the model on the test dataset"
      ]
    },
    {
      "cell_type": "code",
      "execution_count": null,
      "metadata": {
        "id": "GufhVXMAB12I"
      },
      "outputs": [],
      "source": [
        ""
      ]
    }
  ],
  "metadata": {
    "kernelspec": {
      "display_name": "Python 3",
      "language": "python",
      "name": "python3"
    },
    "language_info": {
      "codemirror_mode": {
        "name": "ipython",
        "version": 3
      },
      "file_extension": ".py",
      "mimetype": "text/x-python",
      "name": "python",
      "nbconvert_exporter": "python",
      "pygments_lexer": "ipython3",
      "version": "3.6.4"
    },
    "colab": {
      "name": "chicago-crime-data-on-spark.ipynb",
      "provenance": []
    }
  },
  "nbformat": 4,
  "nbformat_minor": 0
}