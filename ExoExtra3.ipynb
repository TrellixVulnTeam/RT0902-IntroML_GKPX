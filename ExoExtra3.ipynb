{
 "cells": [
  {
   "cell_type": "markdown",
   "metadata": {},
   "source": [
    "# Nettoyage : Usage des encoders\n",
    "\n",
    "Les différents modèles de ML qu'on peut créer avec la bibliothèque Sklearn n'utilisent que des données numériques. Si, dans les nous données, on retrouve des données textuelles (représentant des catégories), on doit les transformer en numérique. Les *encoders* nous permettent de faire cette transformation. \n",
    "\n"
   ]
  },
  {
   "cell_type": "markdown",
   "metadata": {},
   "source": [
    "Pour illustrer l'usage des *encoders*, on va d'abord créer un DataFrame simple, qui nous servira de base de test. \n",
    "\n",
    "Dans ce DataFrame, on a des informations sur des votants pour une enquête sur internet. On a des informations sur le genre du votant, de sa région d'origine (US, Europe ou Asie), et du navigateur utilisé (Chrome, Firefox, Safari), ainsi que leur vote (approuve ou disapprouve). On peut imaginer utiliser un DataFrame comme celui-ci pour un problème de classification type une arbre de décision.  "
   ]
  },
  {
   "cell_type": "code",
   "execution_count": null,
   "metadata": {},
   "outputs": [],
   "source": [
    "import pandas as pnd\n",
    "\n",
    "dfCategories = pnd.DataFrame (\n",
    "    [ ['male', 'from US', 'uses Safari', 'approves'], \n",
    "      ['female', 'from Europe', 'uses Firefox', 'disaproves'] ,\n",
    "      ['female', 'from US', 'uses Safari', 'approves'],\n",
    "      ['male', 'from Europe', 'uses Safari', 'approves'],\n",
    "      ['female', 'from US', 'uses Firefox', 'disaproves'] ,\n",
    "      ['male', 'from Europe', 'uses Chrome', 'disaproves'] , \n",
    "      ['female', 'from Asia', 'uses Chrome', 'approves'],\n",
    "      ['male', 'from Asia', 'uses Chrome', 'approves'] ],\n",
    "    columns=['sex', 'region','browser', 'vote' ])\n",
    "\n",
    "dfCategories"
   ]
  },
  {
   "cell_type": "markdown",
   "metadata": {},
   "source": [
    "## Exemple LabelEncoder\n",
    "\n",
    "On va maintenant utiliser ce DataFrame pour tester nos *encoders*. \n",
    "\n",
    "Tout d'abord, on va transformer notre colonne **vote** (qui pourrait servir de **target**) en numérique avec un encoder de type ***LabelEncoder***. \n",
    "\n",
    "On va donc :\n",
    "- créer un nouveau ***LabelEncoder***\n",
    "- entrainer le nouveau *encoder* avec la colonne *vote* de notre DataFrame \n",
    "- utiliser l'encoder (une fois entrainé) pour transformer les données de cette même colonne "
   ]
  },
  {
   "cell_type": "code",
   "execution_count": null,
   "metadata": {},
   "outputs": [],
   "source": [
    "from sklearn.preprocessing import LabelEncoder\n",
    "\n",
    "labEnc = LabelEncoder()\n",
    "labEnc.fit( dfCategories[ 'vote' ] )\n",
    "\n",
    "print (labEnc.classes_)\n"
   ]
  },
  {
   "cell_type": "markdown",
   "metadata": {},
   "source": [
    "Une fois l'encoder entrainé, on peut l'utiliser pour transformer les données de la colonne \"**vote**\". On va ainsi créer une nouvelle colonne \"**code_vote**\" avec les valeurs transformées à l'aide de l'opération ***transform***. "
   ]
  },
  {
   "cell_type": "code",
   "execution_count": null,
   "metadata": {},
   "outputs": [],
   "source": [
    "dfCategories['code_vote'] = labEnc.transform( dfCategories['vote'] )\n",
    "\n",
    "dfCategories"
   ]
  },
  {
   "cell_type": "markdown",
   "metadata": {},
   "source": [
    "On peut également procéder à la transformation inverse et obtenir les catégories correspondantes à un ensemble de valeurs. \n",
    "\n",
    "On va créer un *array* avec une séquence de 0 et 1 aléatoires et obtenir les catégories leur correspondant.    "
   ]
  },
  {
   "cell_type": "code",
   "execution_count": null,
   "metadata": {},
   "outputs": [],
   "source": [
    "import numpy as np\n",
    "\n",
    "aleatoire = np.random.randint(low=0, high=2, size=5)\n",
    "print (aleatoire)"
   ]
  },
  {
   "cell_type": "code",
   "execution_count": null,
   "metadata": {},
   "outputs": [],
   "source": [
    "cate_aleatoire = labEnc.inverse_transform(aleatoire)\n",
    "print (cate_aleatoire)"
   ]
  },
  {
   "cell_type": "markdown",
   "metadata": {},
   "source": [
    "## Exemple de OrdinalEncoder\n",
    "\n",
    "L'encoder \"***OrdinalEncoder***\" va opérer de manière semblable à l'encoder \"***LabelEncoder***\" et transformer les valeurs en numéros entiers (0, 1, 2...). \n",
    "\n",
    "Contrairement au ***LabelEncoder***, l'encoder ***OrdinalEncoder*** considère l'usage des *features*, c'est-à-dire on est sur des valeurs des variables qu'on va utilser (le *X set*), pas sur les classes qu'on utiliserait dans une classificaiton (le *Y set*). \n",
    "\n",
    "L'usage d'un ***OrdinalEncoder*** suit exactement les mêmes étapes du ***LabelEncoder*** : \n",
    "- création de l'encoder\n",
    "- entrainement de l'encoder sur un DataFrame \n",
    "- utilisation de l'encoder pour transformer les données. \n",
    " "
   ]
  },
  {
   "cell_type": "markdown",
   "metadata": {},
   "source": [
    "Pour illustrer l'usage d'un ***OrdinalEncoder***, on va transformer la colonne \"*sex*\" de notre DataFrame **dfCategories**, en suivant les étapes :\n",
    "- créer un nouveau ***OrdinalEncoder***\n",
    "- entrainer le nouveau *encoder* avec la colonne *sex* de notre DataFrame \n",
    "- utiliser l'encoder (une fois entrainé) pour transformer les données de cette même colonne"
   ]
  },
  {
   "cell_type": "code",
   "execution_count": null,
   "metadata": {},
   "outputs": [],
   "source": [
    "from sklearn.preprocessing import OrdinalEncoder\n",
    "\n",
    "ordEnc = OrdinalEncoder()\n",
    "ordEnc.fit( dfCategories[ [ 'sex' ] ] ) \n",
    "# attention aux 2 [[ ]], car l'encodeur s'attend à un DataFrame, pas une seule colonne \n",
    "\n",
    "print (ordEnc.categories_)"
   ]
  },
  {
   "cell_type": "markdown",
   "metadata": {},
   "source": [
    "Une fois l'encodeur entrainé, on va ajouter au DataFrame *dfCategories* une nouvelle colonne avec les valeurs de la colonne *sex* transformées par l'encoder.  "
   ]
  },
  {
   "cell_type": "code",
   "execution_count": null,
   "metadata": {},
   "outputs": [],
   "source": [
    "dfCategories['code_sex'] = ordEnc.transform( dfCategories[ ['sex'] ] )\n",
    "\n",
    "dfCategories"
   ]
  },
  {
   "cell_type": "markdown",
   "metadata": {},
   "source": [
    "Avec un ***OrdinalEncoder***, il est aussi possible de réaliser de réaliser la transformation inversée (opération ***inverse_tranform***), et donc d'avoir le nom de la catégorie à partir d'une valeur.  \n",
    "\n",
    "Pour illustrer l'opération ***inverse_tranform***, on va se servir de notre array de "
   ]
  },
  {
   "cell_type": "code",
   "execution_count": null,
   "metadata": {},
   "outputs": [],
   "source": [
    "dfAleatoire = pnd.DataFrame(aleatoire)\n",
    "print (dfAleatoire)\n",
    "\n",
    "ordEnc.inverse_transform( dfAleatoire ) "
   ]
  },
  {
   "cell_type": "markdown",
   "metadata": {},
   "source": [
    "## Exemple OneHotEncoder\n",
    "\n",
    "Les encoders \"***OneHotEncoder***\" vont transformer chaque colonne en plusieurs, un par valeur retrouvée, afin de se limiter à des valeurs *binaire* (c.a.d. juste 0 ou 1) pour chaque valeur possible.\n",
    "\n",
    "Ainsi, si dans une colonne *A*, on retrouve les valeurs *\"a\"*,*\"b\"* et *\"c\"*, l'encoder \"***OneHotEncoder***\" va transformer celle-ci en 3 colonnes *\"A_a\"*, *\"A_b\"* et *\"A_c\"*. Les lignes où on avait la valeur *\"a\"* se retrouveront avec un \"*1*\" sur la colonne *\"A_a\"*  et un \"*0*\" sur les colonnes *\"A_b\"* et *\"A_c\"*. Les lignes où il y avait une valeur *\"b\"* se retrouveront avec une valeur \"*1*\" sur la colonne *\"A_b\"* et des \"*0*\" sur les colonnes *\"A_a\"* et *\"A_c\"*. Pareil, là où il y avait une valeur *\"c\"*, on se retrouvera avec une valeur \"*1*\" sur la colonne *\"A_c\"* et des \"*0*\" sur les colonnes *\"A_a\"* et *\"A_b\"*.      \n",
    "\n",
    "| A |               \n",
    "-----                               \n",
    "| a |                               \n",
    "| b |                                \n",
    "| c |                              \n",
    "\n",
    "devient alors \n",
    "\n",
    "| A_a | A_b | A_c |\n",
    "-----|-----|-----|\n",
    "| 1 | 0 | 0 | \n",
    "| 0 | 1 | 0 | \n",
    "| 0 | 0 | 1 |"
   ]
  },
  {
   "cell_type": "markdown",
   "metadata": {},
   "source": [
    "On va se servir d'un encoder ***OneHotEncoder*** pour transformer le contenu de la colonne \"**region**\". \n",
    "\n",
    "Comme pour l'encoder précédent, on va devoir : \n",
    "- créer l'encoder\n",
    "- entrainer l'encoder sur un DataFrame \n",
    "- utiliser de l'encoder pour transformer les données.\n",
    "\n",
    "On va donc créer un objet ***OneHotEncoder*** et l'entrainer avec un *DataFrame* contenant la colonne **region** de notre *DataFrame* ***dfCategories***"
   ]
  },
  {
   "cell_type": "code",
   "execution_count": null,
   "metadata": {},
   "outputs": [],
   "source": [
    "from sklearn.preprocessing import OneHotEncoder\n",
    "\n",
    "ohEnc = OneHotEncoder()\n",
    "ohEnc.fit( dfCategories[ [ 'region' ] ] ) \n",
    "# attention aux 2 [[ ]], car l'encodeur s'attend à un DataFrame, pas une seule colonne \n",
    "\n",
    "print (ohEnc.get_feature_names_out())"
   ]
  },
  {
   "cell_type": "markdown",
   "metadata": {},
   "source": [
    "On va transformer maintenant les valeurs de la colonne \"*region*\". On va créer une nouvelle DataFrame avec les valeurs transformées, de manière à ce qu'on puisse rajouter ensuite ces nouvelles colonnes à notre DataFrame *dfCategories*."
   ]
  },
  {
   "cell_type": "code",
   "execution_count": null,
   "metadata": {},
   "outputs": [],
   "source": [
    "Xoh = ohEnc.transform( dfCategories[['region']])\n",
    "print (Xoh.toarray())\n",
    "\n",
    "dfXoh = pnd.DataFrame(Xoh.toarray(), columns=ohEnc.get_feature_names_out())\n",
    "dfXoh"
   ]
  },
  {
   "cell_type": "markdown",
   "metadata": {},
   "source": [
    "Afin de réunir les données de deux DataFrame, deux possibilités : avec l'opération ***concat*** proposée par la bibliothèque **Pandas**, ou l'opération ***join*** propre aux DataFrames. "
   ]
  },
  {
   "cell_type": "code",
   "execution_count": null,
   "metadata": {},
   "outputs": [],
   "source": [
    "pnd.concat( [ dfCategories, dfXoh ] , axis='columns' )"
   ]
  },
  {
   "cell_type": "code",
   "execution_count": null,
   "metadata": {},
   "outputs": [],
   "source": [
    "dfCategories_OneHot = dfCategories.join(dfXoh)\n",
    "\n",
    "dfCategories_OneHot"
   ]
  },
  {
   "cell_type": "markdown",
   "metadata": {},
   "source": [
    "## Exemple de get_dummies\n",
    "\n",
    "La bibliothèque *Pandas* offre elle aussi un encoder de type *OneHot* semblable à ***OneHotEncoder***, appelé ***get_dummies***. Contrairement à ce dernier, l'encoder ***get_dummies*** proposé par Pandas n'a pas besoin d'être entrainé. Il suffit de l'utiliser sur le DataFrame souhaité. \n",
    "\n",
    "On va donc utiliser l'encoder ***get_dummies*** pour encoder les colonnes \"**region**\" et \"**browser**\" de notre DataFrame **dfCategories**. \n",
    "\n",
    "Lors de la transformation, on va utiliser l'option ***drop_first=True*** afin de réduire le nombre de colonnes sur le résultat.  "
   ]
  },
  {
   "cell_type": "code",
   "execution_count": null,
   "metadata": {},
   "outputs": [],
   "source": [
    "dummies = pnd.get_dummies (dfCategories [['region', 'browser']], drop_first=True)\n",
    "dummies"
   ]
  },
  {
   "cell_type": "markdown",
   "metadata": {},
   "source": [
    "Une fois transformées, on peut ajouter le DataFrame obtenu à notre DataFrame **dfCategories**. "
   ]
  },
  {
   "cell_type": "code",
   "execution_count": null,
   "metadata": {},
   "outputs": [],
   "source": [
    "dfCategories_dummies = pnd.concat ( [ dfCategories, dummies ], axis='columns' )\n",
    "\n",
    "dfCategories_dummies"
   ]
  },
  {
   "cell_type": "code",
   "execution_count": null,
   "metadata": {},
   "outputs": [],
   "source": []
  }
 ],
 "metadata": {
  "interpreter": {
   "hash": "aee8b7b246df8f9039afb4144a1f6fd8d2ca17a180786b69acc140d282b71a49"
  },
  "kernelspec": {
   "display_name": "Python 3 (ipykernel)",
   "language": "python",
   "name": "python3"
  },
  "language_info": {
   "codemirror_mode": {
    "name": "ipython",
    "version": 3
   },
   "file_extension": ".py",
   "mimetype": "text/x-python",
   "name": "python",
   "nbconvert_exporter": "python",
   "pygments_lexer": "ipython3",
   "version": "3.7.12"
  }
 },
 "nbformat": 4,
 "nbformat_minor": 4
}
